{
 "cells": [
  {
   "cell_type": "code",
   "execution_count": 3,
   "id": "e3d87766",
   "metadata": {},
   "outputs": [],
   "source": [
    "from dataloader import *\n",
    "import matplotlib.pyplot as plt"
   ]
  },
  {
   "cell_type": "code",
   "execution_count": 4,
   "id": "6fa17e56",
   "metadata": {},
   "outputs": [],
   "source": [
    "X_train = np.load(\"/Users/legers/Desktop/Galaxias/tesis/data/X_train.npy\")\n",
    "X_val = np.load(\"/Users/legers/Desktop/Galaxias/tesis/data/X_validation.npy\")\n",
    "X_test = np.load(\"/Users/legers/Desktop/Galaxias/tesis/data/X_test.npy\")\n",
    "\n",
    "y_train = np.load(\"/Users/legers/Desktop/Galaxias/tesis/data/y_train.npy\")\n",
    "y_val = np.load(\"/Users/legers/Desktop/Galaxias/tesis/data/y_validation.npy\")\n",
    "y_test = np.load(\"/Users/legers/Desktop/Galaxias/tesis/data/y_test.npy\")"
   ]
  },
  {
   "cell_type": "code",
   "execution_count": 5,
   "id": "8f256bca",
   "metadata": {},
   "outputs": [],
   "source": [
    "dm = DelightDataModule(X_train=X_train, \n",
    "                       X_val=X_val, \n",
    "                       X_test=X_test, \n",
    "                       y_train=y_train,\n",
    "                       y_val=y_val, \n",
    "                       y_test=y_test, \n",
    "                       batch_size=4, \n",
    "                       num_workers=0, \n",
    "                       seed=0, \n",
    "                       train_augmentation=\"classic\")\n",
    "dm.setup()"
   ]
  },
  {
   "cell_type": "code",
   "execution_count": 6,
   "id": "75e7b527",
   "metadata": {},
   "outputs": [
    {
     "data": {
      "image/png": "[encoded data removed]",
      "text/plain": [
       "<Figure size 640x480 with 1 Axes>"
      ]
     },
     "metadata": {},
     "output_type": "display_data"
    }
   ],
   "source": [
    "idx = 3\n",
    "\n",
    "batch = next(iter(dm.train_dataloader()))\n",
    "imgs = batch[0]\n",
    "targets = batch[1]\n",
    "\n",
    "\n",
    "plt.imshow(imgs[idx][0][0])\n",
    "plt.scatter(targets[idx][0] +15, targets[idx][1]+15, marker=\"*\", s =100, color=\"black\")\n",
    "\n",
    "plt.show()"
   ]
  }
 ],
 "metadata": {
  "kernelspec": {
   "display_name": ".venv",
   "language": "python",
   "name": "python3"
  },
  "language_info": {
   "codemirror_mode": {
    "name": "ipython",
    "version": 3
   },
   "file_extension": ".py",
   "mimetype": "text/x-python",
   "name": "python",
   "nbconvert_exporter": "python",
   "pygments_lexer": "ipython3",
   "version": "3.11.5"
  }
 },
 "nbformat": 4,
 "nbformat_minor": 5
}

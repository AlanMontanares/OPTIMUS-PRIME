{
 "cells": [
  {
   "cell_type": "code",
   "execution_count": 1,
   "id": "e3d87766",
   "metadata": {},
   "outputs": [],
   "source": [
    "from dataloader import *\n",
    "from model import *\n",
    "import matplotlib.pyplot as plt"
   ]
  },
  {
   "cell_type": "code",
   "execution_count": 9,
   "id": "6fa17e56",
   "metadata": {},
   "outputs": [],
   "source": [
    "X_train = np.load(\"data\\X_train.npy\")\n",
    "X_val = np.load(\"data\\X_validation.npy\")\n",
    "X_test = np.load(\"data\\X_test.npy\")\n",
    "\n",
    "y_train = np.load(\"data\\y_train.npy\")\n",
    "y_val = np.load(\"data\\y_validation.npy\")\n",
    "y_test = np.load(\"data\\y_test.npy\")"
   ]
  },
  {
   "cell_type": "code",
   "execution_count": 13,
   "id": "8f256bca",
   "metadata": {},
   "outputs": [],
   "source": [
    "dm = DelightDataModule(X_train=X_train, \n",
    "                       X_val=X_val, \n",
    "                       X_test=X_test, \n",
    "                       y_train=y_train,\n",
    "                       y_val=y_val, \n",
    "                       y_test=y_test, \n",
    "                       batch_size=4, \n",
    "                       num_workers=0, \n",
    "                       seed=0, \n",
    "                       train_augmentation=\"delight\")\n",
    "dm.setup()"
   ]
  },
  {
   "cell_type": "code",
   "execution_count": null,
   "id": "d4c657bf",
   "metadata": {},
   "outputs": [],
   "source": [
    "idx = 3\n",
    "\n",
    "batch = next(iter(dm.train_dataloader()))\n",
    "imgs = batch[0]\n",
    "targets = batch[1]\n",
    "\n",
    "\n",
    "plt.imshow(imgs[idx][0][0])\n",
    "plt.scatter(targets[idx][0] +15, targets[idx][1]+15, marker=\"*\", s =100, color=\"black\")\n",
    "\n",
    "plt.show()"
   ]
  },
  {
   "cell_type": "code",
   "execution_count": null,
   "id": "75ebfdfd",
   "metadata": {},
   "outputs": [],
   "source": [
    "class Delight(L.LightningModule):\n",
    "\n",
    "    def __init__(self, config):\n",
    "        super(Delight, self).__init__()\n",
    "\n",
    "        self.bottleneck = torch.nn.Sequential(\n",
    "            torch.nn.Conv2d(config[\"channels\"], config[\"nconv1\"], 3),\n",
    "            torch.nn.ReLU(),\n",
    "            torch.nn.MaxPool2d(2),\n",
    "            torch.nn.Conv2d(config[\"nconv1\"], config[\"nconv2\"], 3),\n",
    "            torch.nn.ReLU(),\n",
    "            torch.nn.MaxPool2d(2),\n",
    "            torch.nn.Conv2d(config[\"nconv2\"], config[\"nconv3\"], 3),\n",
    "            torch.nn.ReLU(),\n",
    "            torch.nn.Flatten(),\n",
    "        )\n",
    "\n",
    "        self.regression = torch.nn.Sequential(\n",
    "            torch.nn.Linear(\n",
    "                in_features=4 * 4 * config[\"nconv3\"] * config[\"levels\"],\n",
    "                out_features=config[\"ndense\"],\n",
    "            ),\n",
    "            torch.nn.Tanh(),\n",
    "            torch.nn.Dropout(p=config[\"dropout\"]),\n",
    "            torch.nn.Linear(in_features=config[\"ndense\"], out_features=2),\n",
    "        )\n",
    "\n",
    "        self.loss = torch.nn.MSELoss()\n",
    "\n",
    "        self.lr = config[\"lr\"]\n",
    "        self.weight_decay = config[\"weight_decay\"]\n",
    "\n",
    "        self.training_predictions = []\n",
    "        self.training_classes = []\n",
    "\n",
    "        self.val_predictions = []\n",
    "        self.val_classes = []\n",
    "\n",
    "        self.curves = {\n",
    "            \"train_loss\": [],\n",
    "            \"val_loss\": [],\n",
    "        }\n",
    "\n",
    "        #self.save_files = config[\"save_files\"]\n",
    "\n",
    "        self.config = config\n",
    "        self.save_hyperparameters(config)\n",
    "\n",
    "    # def initialize_weights(self):\n",
    "    #     for m in self.modules():\n",
    "    #         if isinstance(m, torch.nn.Conv2d) or isinstance(m, torch.nn.Linear):\n",
    "    #             torch.nn.init.xavier_uniform_(m.weight) #Glorot Uniform\n",
    "    #             torch.nn.init.constant_(m.bias, 0.1)\n",
    "\n",
    "    def forward(self, x):\n",
    "\n",
    "        original_shape = x.shape\n",
    "        new_shape = original_shape[:-4] + (-1,)\n",
    "\n",
    "        leading = torch.prod(\n",
    "            torch.tensor(original_shape[:-3])\n",
    "        ).item()  # Batch*Transforms*Levels\n",
    "\n",
    "        x = x.reshape(\n",
    "            leading, original_shape[-3], original_shape[-2], original_shape[-1]\n",
    "        )\n",
    "\n",
    "        x = self.bottleneck(x)\n",
    "        x = x.reshape(*new_shape)\n",
    "        x = self.regression(x)\n",
    "\n",
    "        return x\n",
    "\n",
    "    def training_step(self, batch, batch_idx):\n",
    "        x, y = batch\n",
    "        x_hat = self.forward(x)\n",
    "        train_loss = self.loss(x_hat, y)\n",
    "\n",
    "        self.training_predictions.append(x_hat.detach().cpu())\n",
    "        self.training_classes.append(y.cpu())\n",
    "\n",
    "        self.log(\"train_loss\", train_loss, prog_bar=True)\n",
    "        return train_loss\n",
    "\n",
    "    def validation_step(self, batch, batch_idx):\n",
    "\n",
    "        x, y = batch\n",
    "        x_hat = self.forward(x)\n",
    "        val_loss = self.loss(x_hat, y)\n",
    "\n",
    "        self.val_predictions.append(x_hat.cpu())\n",
    "        self.val_classes.append(y.cpu())\n",
    "\n",
    "        self.log(\"val_loss\", val_loss, prog_bar=True)\n",
    "\n",
    "        return val_loss\n",
    "\n",
    "    def on_train_epoch_end(self):\n",
    "\n",
    "        predictions = torch.cat(self.training_predictions, dim=0)\n",
    "        classes = torch.cat(self.training_classes, dim=0)\n",
    "\n",
    "        self.curves[\"train_loss\"].append(self.loss(predictions, classes))\n",
    "\n",
    "        self.training_predictions.clear()\n",
    "        self.training_classes.clear()\n",
    "\n",
    "    def on_validation_epoch_end(self):\n",
    "\n",
    "        predictions = torch.cat(self.val_predictions, dim=0)\n",
    "        classes = torch.cat(self.val_classes, dim=0)\n",
    "\n",
    "        self.curves[\"val_loss\"].append(self.loss(predictions, classes))\n",
    "\n",
    "        self.val_predictions.clear()\n",
    "        self.val_classes.clear()\n",
    "\n",
    "    def predict_step(self, batch):\n",
    "        x, _ = batch\n",
    "        return self(x)\n",
    "\n",
    "    def configure_optimizers(self):\n",
    "        # lr_lambda = lambda epoch: 0.95 ** epoch\n",
    "\n",
    "        optimizer = torch.optim.Adam(\n",
    "            self.parameters(), lr=self.lr, weight_decay=self.weight_decay\n",
    "        )\n",
    "        # lr_scheduler = optim.lr_scheduler.LambdaLR(optimizer, lr_lambda=[lr_lambda])\n",
    "        # scheduler = torch.optim.lr_scheduler.CosineAnnealingLR(optimizer, T_max=40, eta_min=0, last_epoch=-1)\n",
    "        return [optimizer]  # , [scheduler]"
   ]
  },
  {
   "cell_type": "code",
   "execution_count": 7,
   "id": "c2c52801",
   "metadata": {},
   "outputs": [],
   "source": [
    "config = {\n",
    "    \"nconv1\": 52,\n",
    "    \"nconv2\": 57,\n",
    "    \"nconv3\": 41,\n",
    "    \"ndense\": 685,\n",
    "    \"dropout\": 0.06,\n",
    "    \"channels\": 1,\n",
    "    \"levels\": 5,\n",
    "    \"lr\": 0.1,\n",
    "    \"weight_decay\": 0.1\n",
    "}\n",
    "\n",
    "model = Delight(config)"
   ]
  },
  {
   "cell_type": "code",
   "execution_count": 16,
   "id": "8fa58eb2",
   "metadata": {},
   "outputs": [
    {
     "name": "stdout",
     "output_type": "stream",
     "text": [
      "torch.Size([160, 656])\n",
      "torch.Size([4, 8, 3280])\n"
     ]
    }
   ],
   "source": [
    "out = model(imgs)"
   ]
  },
  {
   "cell_type": "code",
   "execution_count": 18,
   "id": "afc7c5e9",
   "metadata": {},
   "outputs": [
    {
     "data": {
      "text/plain": [
       "torch.Size([4, 8, 2])"
      ]
     },
     "execution_count": 18,
     "metadata": {},
     "output_type": "execute_result"
    }
   ],
   "source": [
    "out.shape"
   ]
  },
  {
   "cell_type": "code",
   "execution_count": 19,
   "id": "127a1479",
   "metadata": {},
   "outputs": [
    {
     "name": "stdout",
     "output_type": "stream",
     "text": [
      "Parámetros entrenables: 2297184\n"
     ]
    }
   ],
   "source": [
    "trainable_params = sum(p.numel() for p in model.parameters() if p.requires_grad)\n",
    "print(f\"Parámetros entrenables: {trainable_params}\")"
   ]
  },
  {
   "cell_type": "code",
   "execution_count": null,
   "id": "927eaddb",
   "metadata": {},
   "outputs": [],
   "source": [
    "            torch.nn.Linear(\n",
    "                in_features=4 * 4 * config[\"nconv3\"] * config[\"levels\"],\n",
    "                out_features=config[\"ndense\"],\n",
    "            ),"
   ]
  },
  {
   "cell_type": "code",
   "execution_count": 15,
   "id": "fb27ca54",
   "metadata": {},
   "outputs": [
    {
     "data": {
      "text/plain": [
       "torch.Size([4, 8, 5, 1, 30, 30])"
      ]
     },
     "execution_count": 15,
     "metadata": {},
     "output_type": "execute_result"
    }
   ],
   "source": [
    "imgs.shape"
   ]
  }
 ],
 "metadata": {
  "kernelspec": {
   "display_name": ".venv",
   "language": "python",
   "name": "python3"
  },
  "language_info": {
   "codemirror_mode": {
    "name": "ipython",
    "version": 3
   },
   "file_extension": ".py",
   "mimetype": "text/x-python",
   "name": "python",
   "nbconvert_exporter": "python",
   "pygments_lexer": "ipython3",
   "version": "3.10.11"
  }
 },
 "nbformat": 4,
 "nbformat_minor": 5
}

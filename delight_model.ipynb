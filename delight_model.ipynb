{
 "cells": [
  {
   "cell_type": "code",
   "execution_count": 2,
   "id": "76fad91d",
   "metadata": {},
   "outputs": [],
   "source": [
    "from functools import reduce\n",
    "\n",
    "import torch\n",
    "\n",
    "\n",
    "class RotationAndFlipLayer(torch.nn.Module):\n",
    "    \"\"\"Custom layer that transform an input into a stack of rotations and flips.\n",
    "\n",
    "    It assumes an input of, at least, (B, L, C, W, H) where:\n",
    "    - B: Batch\n",
    "    - L: Levels\n",
    "    - C: Channels\n",
    "    - W: Width\n",
    "    - H: Height\n",
    "\n",
    "    For each element in the input, the transformation works as follows:\n",
    "    - If `rot` is enabled, then the element is rotated in 90, 180 and 270 degrees.\n",
    "    - If `flip` is enabled, then the element is flipped horizontally.\n",
    "\n",
    "    Notice that rotations are applied also in flipped vectors. Then, if `rot` and `flip`\n",
    "    are enabled, then from one element, eight vectors will be generated, where:\n",
    "    - 1 vector is the original element\n",
    "    - 3 vectors are rotations (90, 180, 270) of the original element\n",
    "    - 1 vector is the horizontal flipped version of the original element.\n",
    "    - 3 vectors are rotations (90, 180, 270) of the horizontal flipped vector.\n",
    "\n",
    "    It will returns a new tensor of (B * L * T, C, W, H)\n",
    "    Where T = (`flip==True` + 1) * (3 * `rot==True` + 1) \n",
    "    \"\"\"\n",
    "    def __init__(self, rot: bool = True, flip: bool = True):\n",
    "        super().__init__()  # type: ignore\n",
    "        self.rot = rot\n",
    "        self.flip = flip\n",
    "        self.n_transforms = (int(flip) + 1) * (3 * int(rot) + 1)\n",
    "\n",
    "    def forward(self, x: torch.Tensor) -> torch.Tensor:\n",
    "        stacked = reduce(lambda x, y: x * y, x.shape[:-3], 1)\n",
    "\n",
    "        if self.rot is False and self.flip is False:\n",
    "            x = x.reshape(stacked, x.shape[-3], x.shape[-2], x.shape[-1])\n",
    "            return x\n",
    "\n",
    "        w_dim = len(x.shape) - 2\n",
    "        h_dim = len(x.shape) - 1\n",
    "        transforms: tuple[torch.Tensor, ...]\n",
    "\n",
    "        if self.rot is False:\n",
    "            flipped = x.flip(dims=(h_dim,))\n",
    "            transforms = (x, flipped)\n",
    "\n",
    "        elif self.flip is False:\n",
    "            rot90 = x.rot90(k=1, dims=(w_dim, h_dim))\n",
    "            rot180 = x.rot90(k=2, dims=(w_dim, h_dim))\n",
    "            rot270 = x.rot90(k=3, dims=(w_dim, h_dim))\n",
    "            transforms = (x, rot90, rot180, rot270)\n",
    "\n",
    "        else:\n",
    "            rot90 = x.rot90(k=1, dims=(w_dim, h_dim))\n",
    "            rot180 = x.rot90(k=2, dims=(w_dim, h_dim))\n",
    "            rot270 = x.rot90(k=3, dims=(w_dim, h_dim))\n",
    "            flipped = x.flip(dims=(h_dim,))\n",
    "            flipped_rot90 = flipped.rot90(k=1, dims=(w_dim, h_dim))\n",
    "            flipped_rot180 = flipped.rot90(k=2, dims=(w_dim, h_dim))\n",
    "            flipped_rot270 = flipped.rot90(k=3, dims=(w_dim, h_dim))\n",
    "            transforms = (\n",
    "                x,\n",
    "                rot90,\n",
    "                rot180,\n",
    "                rot270,\n",
    "                flipped,\n",
    "                flipped_rot90,\n",
    "                flipped_rot180,\n",
    "                flipped_rot270,\n",
    "            )\n",
    "\n",
    "        x = torch.cat(transforms, dim=1)\n",
    "\n",
    "        return x.reshape(\n",
    "            stacked * self.n_transforms, x.shape[-3], x.shape[-2], x.shape[-1]\n",
    "        )"
   ]
  },
  {
   "cell_type": "code",
   "execution_count": 3,
   "id": "d3f63d92",
   "metadata": {},
   "outputs": [],
   "source": [
    "from dataclasses import dataclass\n",
    "\n",
    "\n",
    "@dataclass\n",
    "class DelightCnnParameters:\n",
    "    \"\"\"Defines DelightCnn parameters.\n",
    "\n",
    "    Attributes:\n",
    "    - nconv1: Number of out channels for first convolutional layer.\n",
    "    - nconv2: Number of out channels for second convolutional layer.\n",
    "    - nconv3: Number of out channels for third convolutional layer.\n",
    "    - ndense: Number of out features for first fully-connected layer.\n",
    "    - dropout: Probability of dropout. 0 means no dropout.\n",
    "    - channels: Number of channels expected from the dataset.\n",
    "    - levels: Quantity of levels expected from the dataset.\n",
    "    - rot: Applies a rotation transformation on the input.\n",
    "    - flip: Applies a flip transformation on the input.\n",
    "    \"\"\"\n",
    "\n",
    "    nconv1: int\n",
    "    nconv2: int\n",
    "    nconv3: int\n",
    "    ndense: int\n",
    "    dropout: float\n",
    "    channels: int\n",
    "    levels: int\n",
    "    rot: bool\n",
    "    flip: bool"
   ]
  },
  {
   "cell_type": "code",
   "execution_count": 37,
   "id": "944b4100",
   "metadata": {},
   "outputs": [],
   "source": [
    "import math\n",
    "from collections import OrderedDict\n",
    "\n",
    "import torch\n",
    "\n",
    "class DelightCnn(torch.nn.Module):\n",
    "    def __init__(self, options: DelightCnnParameters):\n",
    "        super().__init__()  # type: ignore\n",
    "        bottleneck: OrderedDict[str, torch.nn.Module] = OrderedDict(\n",
    "            [\n",
    "                (\"conv1\", torch.nn.Conv2d(options.channels, options.nconv1, 3)),\n",
    "                (\"relu1\", torch.nn.ReLU()),\n",
    "                (\"mp1\", torch.nn.MaxPool2d(2)),\n",
    "                (\"conv2\", torch.nn.Conv2d(options.nconv1, options.nconv2, 3)),\n",
    "                (\"relu2\", torch.nn.ReLU()),\n",
    "                (\"mp2\", torch.nn.MaxPool2d(2)),\n",
    "                (\"conv3\", torch.nn.Conv2d(options.nconv2, options.nconv3, 3)),\n",
    "                (\"relu3\", torch.nn.ReLU()),\n",
    "                (\"flatten\", torch.nn.Flatten()),\n",
    "            ]\n",
    "        )\n",
    "        regression: OrderedDict[str, torch.nn.Module] = OrderedDict(\n",
    "            [\n",
    "                (\n",
    "                    \"input_layer_ffcc\",\n",
    "                    torch.nn.Linear(\n",
    "                        in_features=4*4*options.nconv3*options.levels,\n",
    "                        out_features=options.ndense,\n",
    "                    ),\n",
    "                ),\n",
    "                (\"tanh\", torch.nn.Tanh()),\n",
    "                (\"dropout\", torch.nn.Dropout(p=options.dropout)),\n",
    "                (\"out\", torch.nn.Linear(in_features=options.ndense, out_features=2)),\n",
    "            ]\n",
    "        )\n",
    "\n",
    "        self.rot_and_flip = RotationAndFlipLayer(rot=options.rot, flip=options.flip)\n",
    "        self.bottleneck = torch.nn.Sequential(bottleneck)\n",
    "        self.regression = torch.nn.Sequential(regression)\n",
    "\n",
    "    def forward(self, x: torch.Tensor) -> torch.Tensor:\n",
    "        batch = x.shape[0]  \n",
    "\n",
    "        print(x.shape)\n",
    "\n",
    "        x = self.rot_and_flip(x)\n",
    "\n",
    "        print(x.shape)\n",
    "        x = self.bottleneck(x)\n",
    "        return x\n",
    "        # print(x.shape)\n",
    "        # x = x.reshape(batch, self.rot_and_flip.n_transforms, -1)\n",
    "        # print(x.shape)\n",
    "\n",
    "        # x = self.regression(x)\n",
    "        # print(x.shape)\n",
    "\n",
    "        # return x"
   ]
  },
  {
   "cell_type": "code",
   "execution_count": 5,
   "id": "4dac6a9f",
   "metadata": {},
   "outputs": [],
   "source": [
    "import os\n",
    "import sys\n",
    "import logging\n",
    "from functools import partial\n",
    "from typing import Any, Protocol, cast\n",
    "import gdown\n",
    "import torch\n",
    "import numpy as np\n",
    "\n",
    "import matplotlib.pyplot as plt"
   ]
  },
  {
   "cell_type": "code",
   "execution_count": 6,
   "id": "c43dac94",
   "metadata": {},
   "outputs": [],
   "source": [
    "X_train = np.load(\"/Users/legers/Desktop/Galaxias/tesis/data/X_train.npy\")\n",
    "X_val = np.load(\"/Users/legers/Desktop/Galaxias/tesis/data/X_validation.npy\")\n",
    "X_test = np.load(\"/Users/legers/Desktop/Galaxias/tesis/data/X_test.npy\")\n",
    "\n",
    "y_train = np.load(\"/Users/legers/Desktop/Galaxias/tesis/data/y_train.npy\")\n",
    "y_val = np.load(\"/Users/legers/Desktop/Galaxias/tesis/data/y_validation.npy\")\n",
    "y_test = np.load(\"/Users/legers/Desktop/Galaxias/tesis/data/y_test.npy\")"
   ]
  },
  {
   "cell_type": "code",
   "execution_count": null,
   "id": "ef763996",
   "metadata": {},
   "outputs": [],
   "source": [
    "model_parameters = DelightCnnParameters(\n",
    "    nconv1=52,\n",
    "    nconv2=57,\n",
    "    nconv3=41,\n",
    "    ndense=128,\n",
    "    dropout=0.06,\n",
    "    channels=1,\n",
    "    levels=5,\n",
    "    rot=True,\n",
    "    flip=True,\n",
    ")\n",
    "\n",
    "model = DelightCnn(model_parameters)\n"
   ]
  },
  {
   "cell_type": "code",
   "execution_count": 40,
   "id": "24318efa",
   "metadata": {},
   "outputs": [
    {
     "data": {
      "text/plain": [
       "torch.Size([2, 5, 1, 30, 30])"
      ]
     },
     "execution_count": 40,
     "metadata": {},
     "output_type": "execute_result"
    }
   ],
   "source": [
    "prueba = torch.tensor(X_train[:2]).permute(0,3,1,2).unsqueeze(2)\n",
    "prueba.shape"
   ]
  },
  {
   "cell_type": "code",
   "execution_count": 38,
   "id": "7faea2bd",
   "metadata": {},
   "outputs": [],
   "source": [
    "model = DelightCnn(model_parameters)\n",
    "rot =RotationAndFlipLayer()"
   ]
  },
  {
   "cell_type": "code",
   "execution_count": 17,
   "id": "f518b2ed",
   "metadata": {},
   "outputs": [
    {
     "data": {
      "text/plain": [
       "torch.Size([8, 1, 30, 30])"
      ]
     },
     "execution_count": 17,
     "metadata": {},
     "output_type": "execute_result"
    }
   ],
   "source": [
    "transform = rot(prueba[1,0,:].unsqueeze(0).unsqueeze(1))\n",
    "transform.shape"
   ]
  },
  {
   "cell_type": "code",
   "execution_count": 18,
   "id": "2b4dcf83",
   "metadata": {},
   "outputs": [],
   "source": [
    "def get_transformed_points(y: np.ndarray) -> tuple[np.ndarray, ...]:\n",
    "    y90 = (-1, 1) * y[:, ::-1]\n",
    "    y180 = (-1, 1) * y90[:, ::-1]\n",
    "    y270 = (-1, 1) * y180[:, ::-1]\n",
    "    yflip = (1, -1) * y\n",
    "    yflip90 = (-1, 1) * yflip[:, ::-1]\n",
    "    yflip180 = (-1, 1) * yflip90[:, ::-1]\n",
    "    yflip270 = (-1, 1) * yflip180[:, ::-1]\n",
    "\n",
    "    return np.concatenate([y, y90, y180, y270, yflip, yflip90, yflip180, yflip270])"
   ]
  },
  {
   "cell_type": "code",
   "execution_count": 12,
   "id": "8e889569",
   "metadata": {},
   "outputs": [],
   "source": [
    "y_trans = get_transformed_points(y_train[1:2])"
   ]
  },
  {
   "cell_type": "code",
   "execution_count": 421,
   "id": "239cf0a4",
   "metadata": {},
   "outputs": [
    {
     "data": {
      "image/png": "[encoded data removed]",
      "text/plain": [
       "<Figure size 640x480 with 1 Axes>"
      ]
     },
     "metadata": {},
     "output_type": "display_data"
    },
    {
     "data": {
      "image/png": "[encoded data removed]",
      "text/plain": [
       "<Figure size 640x480 with 1 Axes>"
      ]
     },
     "metadata": {},
     "output_type": "display_data"
    },
    {
     "data": {
      "image/png": "[encoded data removed]",
      "text/plain": [
       "<Figure size 640x480 with 1 Axes>"
      ]
     },
     "metadata": {},
     "output_type": "display_data"
    },
    {
     "data": {
      "image/png": "[encoded data removed]",
      "text/plain": [
       "<Figure size 640x480 with 1 Axes>"
      ]
     },
     "metadata": {},
     "output_type": "display_data"
    },
    {
     "data": {
      "image/png": "[encoded data removed]",
      "text/plain": [
       "<Figure size 640x480 with 1 Axes>"
      ]
     },
     "metadata": {},
     "output_type": "display_data"
    },
    {
     "data": {
      "image/png": "[encoded data removed]",
      "text/plain": [
       "<Figure size 640x480 with 1 Axes>"
      ]
     },
     "metadata": {},
     "output_type": "display_data"
    },
    {
     "data": {
      "image/png": "[encoded data removed]",
      "text/plain": [
       "<Figure size 640x480 with 1 Axes>"
      ]
     },
     "metadata": {},
     "output_type": "display_data"
    },
    {
     "data": {
      "image/png": "[encoded data removed]",
      "text/plain": [
       "<Figure size 640x480 with 1 Axes>"
      ]
     },
     "metadata": {},
     "output_type": "display_data"
    }
   ],
   "source": [
    "for i in range(8):\n",
    "    plt.imshow(transform[i][0])\n",
    "    plt.scatter(15+y_trans[i][1], 15+y_trans[i][0], color='black', marker='*', s=100)\n",
    "    plt.show()"
   ]
  },
  {
   "cell_type": "code",
   "execution_count": null,
   "id": "80413d9c",
   "metadata": {},
   "outputs": [],
   "source": []
  },
  {
   "cell_type": "code",
   "execution_count": null,
   "id": "2201fe9f",
   "metadata": {},
   "outputs": [],
   "source": []
  },
  {
   "cell_type": "code",
   "execution_count": 97,
   "id": "c055b8ec",
   "metadata": {},
   "outputs": [],
   "source": [
    "bottleneck: OrderedDict[str, torch.nn.Module] = OrderedDict(\n",
    "    [\n",
    "        (\"conv1\", torch.nn.Conv2d(1, 10, 3)),\n",
    "        (\"relu1\", torch.nn.ReLU()),\n",
    "        (\"mp1\", torch.nn.MaxPool2d(2)),\n",
    "        (\"conv2\", torch.nn.Conv2d(10, 20, 3)),\n",
    "        (\"relu2\", torch.nn.ReLU()),\n",
    "        (\"mp2\", torch.nn.MaxPool2d(2)),\n",
    "        (\"conv3\", torch.nn.Conv2d(20, 41, 3)),\n",
    "        (\"relu3\", torch.nn.ReLU()),\n",
    "        (\"flatten\", torch.nn.Flatten()),\n",
    "    ]\n",
    ")\n",
    "\n",
    "\n",
    "rot_and_flip = RotationAndFlipLayer(rot=True, flip=True)\n",
    "rot_and_flip_false = RotationAndFlipLayer(rot=False, flip=False)\n",
    "\n",
    "bottleneck_layer = torch.nn.Sequential(bottleneck)"
   ]
  },
  {
   "cell_type": "code",
   "execution_count": 212,
   "id": "6d2c88a3",
   "metadata": {},
   "outputs": [],
   "source": [
    "import torch.nn as nn\n",
    "\n",
    "bottleneck_layer = nn.Sequential(\n",
    "    nn.Conv2d(1, 10, 3),\n",
    "    nn.ReLU(),\n",
    "    nn.MaxPool2d(2),\n",
    "    nn.Conv2d(10, 20, 3),\n",
    "    nn.ReLU(),\n",
    "    nn.MaxPool2d(2),\n",
    "    nn.Conv2d(20, 41, 3),\n",
    "    nn.ReLU(),\n",
    "    nn.Flatten(),\n",
    ")"
   ]
  },
  {
   "cell_type": "code",
   "execution_count": 148,
   "id": "69ffd1ee",
   "metadata": {},
   "outputs": [
    {
     "data": {
      "text/plain": [
       "torch.Size([2, 5, 1, 30, 30])"
      ]
     },
     "execution_count": 148,
     "metadata": {},
     "output_type": "execute_result"
    }
   ],
   "source": [
    "prueba = torch.tensor(X_train[:2]).permute(0,3,1,2).unsqueeze(2)\n",
    "prueba.shape\n"
   ]
  },
  {
   "cell_type": "code",
   "execution_count": 169,
   "id": "6c0c4c8d",
   "metadata": {},
   "outputs": [],
   "source": [
    "stacked = reduce(lambda x, y: x * y, prueba.shape[:-3], 1)\n",
    "\n",
    "x = prueba.reshape(stacked, prueba.shape[-3], prueba.shape[-2], prueba.shape[-1])"
   ]
  },
  {
   "cell_type": "code",
   "execution_count": 249,
   "id": "50f9b663",
   "metadata": {},
   "outputs": [],
   "source": [
    "output = bottleneck_layer(rot_and_flip(prueba.float()))\n",
    "output2= bottleneck_layer(rot_and_flip_false(prueba.float()))\n"
   ]
  },
  {
   "cell_type": "code",
   "execution_count": 272,
   "id": "573bb060",
   "metadata": {},
   "outputs": [
    {
     "data": {
      "text/plain": [
       "torch.Size([80, 656])"
      ]
     },
     "execution_count": 272,
     "metadata": {},
     "output_type": "execute_result"
    }
   ],
   "source": [
    "output.shape"
   ]
  },
  {
   "cell_type": "code",
   "execution_count": 250,
   "id": "32ca3932",
   "metadata": {},
   "outputs": [
    {
     "data": {
      "text/plain": [
       "torch.Size([2, 8, 3280])"
      ]
     },
     "execution_count": 250,
     "metadata": {},
     "output_type": "execute_result"
    }
   ],
   "source": [
    "reshape = output.reshape(2, 8, -1)\n",
    "reshape.shape"
   ]
  },
  {
   "cell_type": "code",
   "execution_count": 283,
   "id": "4e129e80",
   "metadata": {},
   "outputs": [
    {
     "name": "stdout",
     "output_type": "stream",
     "text": [
      "tensor(True)\n",
      "True\n",
      "tensor(True)\n",
      "True\n",
      "tensor(True)\n",
      "True\n",
      "tensor(True)\n",
      "True\n",
      "tensor(True)\n",
      "True\n",
      "tensor(True)\n",
      "True\n",
      "tensor(True)\n",
      "True\n",
      "tensor(True)\n",
      "True\n",
      "tensor(True)\n",
      "True\n",
      "tensor(True)\n",
      "True\n",
      "tensor(True)\n",
      "True\n",
      "tensor(True)\n",
      "True\n",
      "tensor(True)\n",
      "True\n",
      "tensor(True)\n",
      "True\n",
      "tensor(True)\n",
      "True\n",
      "tensor(True)\n",
      "True\n"
     ]
    }
   ],
   "source": [
    "idx = 0\n",
    "\n",
    "for i in range(2):\n",
    "    for t in range(8):\n",
    "        cat = torch.cat([output[j] for j in range(idx, idx + 5)])\n",
    "        idx += 5\n",
    "        print((cat == reshape[i][t]).all())\n",
    "        print(torch.allclose(cat, reshape[i][t], atol=1e-50))\n"
   ]
  },
  {
   "cell_type": "code",
   "execution_count": null,
   "id": "8a90f048",
   "metadata": {},
   "outputs": [
    {
     "data": {
      "text/plain": [
       "torch.Size([3280])"
      ]
     },
     "execution_count": 256,
     "metadata": {},
     "output_type": "execute_result"
    }
   ],
   "source": [
    "reshape[1][0].shape"
   ]
  },
  {
   "cell_type": "code",
   "execution_count": 268,
   "id": "67c174b1",
   "metadata": {},
   "outputs": [],
   "source": [
    "cat = torch.cat([output2[5],output2[6],output2[7],output2[8],output2[9]])"
   ]
  },
  {
   "cell_type": "code",
   "execution_count": 271,
   "id": "f03ff580",
   "metadata": {},
   "outputs": [
    {
     "data": {
      "text/plain": [
       "True"
      ]
     },
     "execution_count": 271,
     "metadata": {},
     "output_type": "execute_result"
    }
   ],
   "source": [
    "torch.allclose(cat, reshape[1][0], atol=1e-6)\n"
   ]
  },
  {
   "cell_type": "code",
   "execution_count": 263,
   "id": "8c29f176",
   "metadata": {},
   "outputs": [
    {
     "data": {
      "text/plain": [
       "tensor(False)"
      ]
     },
     "execution_count": 263,
     "metadata": {},
     "output_type": "execute_result"
    }
   ],
   "source": [
    "(torch.cat([output2[0],output2[1],output2[2],output2[3],output2[4]]) ==reshape[0][0]).all()"
   ]
  },
  {
   "cell_type": "code",
   "execution_count": 225,
   "id": "9fc1ab17",
   "metadata": {},
   "outputs": [
    {
     "data": {
      "text/plain": [
       "tensor(True)"
      ]
     },
     "execution_count": 225,
     "metadata": {},
     "output_type": "execute_result"
    }
   ],
   "source": [
    "(rot_and_flip(prueba.float())[0] == rot_and_flip_false(prueba.float())[0]).all()"
   ]
  },
  {
   "cell_type": "code",
   "execution_count": 214,
   "id": "4a8af8fc",
   "metadata": {},
   "outputs": [
    {
     "data": {
      "text/plain": [
       "torch.Size([2, 8, 3280])"
      ]
     },
     "execution_count": 214,
     "metadata": {},
     "output_type": "execute_result"
    }
   ],
   "source": [
    "reshape = output.reshape(2, 8, -1)\n",
    "reshape.shape"
   ]
  },
  {
   "cell_type": "code",
   "execution_count": 236,
   "id": "4decdf9a",
   "metadata": {},
   "outputs": [
    {
     "data": {
      "text/plain": [
       "True"
      ]
     },
     "execution_count": 236,
     "metadata": {},
     "output_type": "execute_result"
    }
   ],
   "source": [
    "torch.allclose(output[0], output2[0], atol=1e-7)\n"
   ]
  },
  {
   "cell_type": "code",
   "execution_count": 247,
   "id": "deaa486c",
   "metadata": {},
   "outputs": [
    {
     "data": {
      "text/plain": [
       "tensor(True)"
      ]
     },
     "execution_count": 247,
     "metadata": {},
     "output_type": "execute_result"
    }
   ],
   "source": [
    "(output[0] == output2[0]).all()"
   ]
  },
  {
   "cell_type": "code",
   "execution_count": 184,
   "id": "2e29c430",
   "metadata": {},
   "outputs": [
    {
     "data": {
      "text/plain": [
       "torch.Size([10, 656])"
      ]
     },
     "execution_count": 184,
     "metadata": {},
     "output_type": "execute_result"
    }
   ],
   "source": [
    "out1.shape"
   ]
  },
  {
   "cell_type": "code",
   "execution_count": 203,
   "id": "9fdd1d9e",
   "metadata": {},
   "outputs": [
    {
     "data": {
      "text/plain": [
       "torch.Size([80, 1, 30, 30])"
      ]
     },
     "execution_count": 203,
     "metadata": {},
     "output_type": "execute_result"
    }
   ],
   "source": [
    "rot_true.shape"
   ]
  },
  {
   "cell_type": "code",
   "execution_count": 196,
   "id": "0ab17c72",
   "metadata": {},
   "outputs": [],
   "source": [
    "rot_true = rot_and_flip(prueba.float())\n",
    "rot_false = rot_and_flip_false(prueba.float())"
   ]
  },
  {
   "cell_type": "code",
   "execution_count": 206,
   "id": "5f472074",
   "metadata": {},
   "outputs": [
    {
     "data": {
      "text/plain": [
       "tensor(True)"
      ]
     },
     "execution_count": 206,
     "metadata": {},
     "output_type": "execute_result"
    }
   ],
   "source": [
    "(bottleneck_layer(rot_true[40]) == bottleneck_layer(rot_false[5])).all()"
   ]
  },
  {
   "cell_type": "code",
   "execution_count": 194,
   "id": "3db01864",
   "metadata": {},
   "outputs": [
    {
     "data": {
      "text/plain": [
       "torch.Size([10, 1, 30, 30])"
      ]
     },
     "execution_count": 194,
     "metadata": {},
     "output_type": "execute_result"
    }
   ],
   "source": [
    "rot_and_flip_false(prueba.float()).shape"
   ]
  },
  {
   "cell_type": "code",
   "execution_count": 191,
   "id": "7c07f50c",
   "metadata": {},
   "outputs": [
    {
     "data": {
      "text/plain": [
       "tensor([ True,  True,  True,  True,  True,  True,  True,  True,  True,  True,\n",
       "         True,  True,  True,  True,  True,  True, False,  True, False, False,\n",
       "        False, False, False, False, False, False, False, False, False, False,\n",
       "        False,  True,  True,  True,  True,  True,  True, False, False, False,\n",
       "         True, False, False, False, False, False, False, False,  True,  True,\n",
       "         True,  True,  True,  True,  True,  True,  True,  True,  True,  True,\n",
       "         True,  True,  True,  True,  True,  True,  True,  True,  True,  True,\n",
       "         True,  True,  True,  True,  True,  True,  True,  True,  True,  True,\n",
       "         True,  True,  True,  True,  True,  True,  True,  True,  True,  True,\n",
       "         True,  True,  True,  True,  True,  True, False, False, False, False,\n",
       "        False, False,  True,  True, False,  True,  True,  True,  True,  True,\n",
       "         True,  True, False, False,  True, False, False, False, False, False,\n",
       "        False, False, False, False, False, False, False, False,  True,  True,\n",
       "         True,  True,  True,  True,  True,  True,  True,  True,  True,  True,\n",
       "         True,  True,  True,  True,  True,  True,  True,  True,  True,  True,\n",
       "        False,  True,  True,  True,  True,  True,  True,  True,  True,  True,\n",
       "         True,  True,  True,  True,  True,  True,  True,  True,  True,  True,\n",
       "         True,  True,  True,  True,  True,  True,  True,  True,  True,  True,\n",
       "         True,  True,  True,  True,  True,  True,  True,  True,  True,  True,\n",
       "         True,  True, False, False,  True, False, False,  True,  True,  True,\n",
       "        False,  True,  True,  True, False,  True,  True,  True, False, False,\n",
       "        False, False, False, False, False, False, False, False,  True, False,\n",
       "        False, False, False, False, False, False, False, False, False, False,\n",
       "        False, False, False, False, False, False, False, False, False, False,\n",
       "        False, False,  True, False, False,  True,  True,  True, False, False,\n",
       "         True, False,  True,  True, False, False, False, False, False, False,\n",
       "        False, False, False, False, False, False, False, False, False, False,\n",
       "        False, False, False, False, False, False, False, False, False, False,\n",
       "        False, False,  True, False, False, False, False, False,  True,  True,\n",
       "         True,  True,  True,  True,  True,  True,  True,  True,  True,  True,\n",
       "         True,  True,  True,  True, False, False, False, False, False, False,\n",
       "        False, False, False, False, False, False, False, False, False,  True,\n",
       "         True,  True,  True,  True,  True,  True,  True,  True,  True,  True,\n",
       "         True,  True,  True,  True,  True,  True,  True,  True,  True,  True,\n",
       "         True,  True,  True,  True,  True, False, False,  True,  True, False,\n",
       "        False,  True, False, False,  True, False,  True, False, False, False,\n",
       "        False, False, False, False, False, False, False, False,  True,  True,\n",
       "         True,  True,  True,  True,  True,  True,  True,  True,  True, False,\n",
       "         True,  True,  True, False,  True,  True,  True,  True,  True,  True,\n",
       "         True,  True,  True,  True,  True,  True,  True,  True,  True,  True,\n",
       "        False, False, False, False, False, False, False, False, False, False,\n",
       "        False, False, False, False, False, False, False, False, False, False,\n",
       "        False, False,  True, False, False, False, False, False, False, False,\n",
       "        False, False,  True,  True,  True,  True,  True,  True,  True,  True,\n",
       "         True,  True,  True,  True,  True,  True,  True,  True,  True,  True,\n",
       "         True,  True,  True,  True,  True,  True,  True,  True,  True,  True,\n",
       "         True,  True,  True,  True, False, False, False,  True, False, False,\n",
       "        False, False, False, False, False,  True, False, False, False, False,\n",
       "        False, False, False, False, False, False, False, False, False, False,\n",
       "        False, False, False, False, False, False,  True,  True,  True,  True,\n",
       "         True,  True,  True,  True,  True,  True,  True,  True,  True,  True,\n",
       "         True,  True,  True,  True,  True,  True,  True,  True,  True,  True,\n",
       "         True,  True,  True,  True,  True,  True,  True,  True,  True,  True,\n",
       "         True,  True,  True,  True,  True,  True,  True,  True,  True,  True,\n",
       "         True,  True,  True,  True,  True,  True,  True,  True,  True,  True,\n",
       "         True,  True,  True,  True,  True,  True,  True,  True, False,  True,\n",
       "         True,  True,  True,  True,  True,  True,  True,  True,  True,  True,\n",
       "         True,  True,  True,  True,  True,  True,  True,  True,  True,  True,\n",
       "         True,  True,  True,  True,  True,  True,  True,  True,  True,  True,\n",
       "         True,  True,  True,  True,  True,  True,  True,  True,  True,  True,\n",
       "         True,  True,  True,  True,  True,  True,  True,  True, False, False,\n",
       "        False, False, False, False, False, False, False, False, False, False,\n",
       "        False, False, False, False, False, False, False, False, False, False,\n",
       "        False, False, False, False, False, False, False, False, False, False,\n",
       "        False, False, False, False, False, False, False, False, False, False,\n",
       "        False, False, False, False, False, False])"
      ]
     },
     "execution_count": 191,
     "metadata": {},
     "output_type": "execute_result"
    }
   ],
   "source": [
    "out1[1].float() == output[1].float()"
   ]
  },
  {
   "cell_type": "code",
   "execution_count": null,
   "id": "fba78cae",
   "metadata": {},
   "outputs": [],
   "source": []
  },
  {
   "cell_type": "code",
   "execution_count": null,
   "id": "d81bd545",
   "metadata": {},
   "outputs": [
    {
     "data": {
      "text/plain": [
       "tensor([[[0.3038, 0.3489, 0.2964, 0.2512, 0.2532, 0.2585, 0.2421, 0.1670,\n",
       "          0.1841, 0.1782, 0.1739, 0.1951, 0.1632, 0.2223, 0.2108, 0.1998,\n",
       "          0.1788, 0.1787, 0.2215, 0.1769, 0.1778, 0.2036, 0.1775, 0.1689,\n",
       "          0.1890, 0.1897, 0.1871, 0.2218, 0.1766, 0.2315],\n",
       "         [0.3125, 0.3787, 0.3626, 0.3130, 0.2556, 0.2219, 0.2037, 0.1915,\n",
       "          0.1659, 0.1645, 0.1882, 0.1929, 0.1796, 0.1921, 0.1960, 0.2311,\n",
       "          0.1449, 0.1653, 0.2045, 0.2084, 0.1737, 0.1880, 0.1848, 0.2135,\n",
       "          0.2315, 0.2246, 0.2197, 0.2266, 0.1879, 0.2493],\n",
       "         [0.3177, 0.3181, 0.2629, 0.2895, 0.2633, 0.1993, 0.1929, 0.1633,\n",
       "          0.1793, 0.2333, 0.1863, 0.1994, 0.1956, 0.1800, 0.2170, 0.2471,\n",
       "          0.2083, 0.2131, 0.2143, 0.2570, 0.2275, 0.2250, 0.2291, 0.1779,\n",
       "          0.1987, 0.1920, 0.2071, 0.2591, 0.2866, 0.2062],\n",
       "         [0.2645, 0.2791, 0.2753, 0.2351, 0.2474, 0.2748, 0.2345, 0.2059,\n",
       "          0.2141, 0.2366, 0.2545, 0.2301, 0.2197, 0.2307, 0.1952, 0.2241,\n",
       "          0.2286, 0.1983, 0.2039, 0.2395, 0.1902, 0.2404, 0.2439, 0.1914,\n",
       "          0.2149, 0.2365, 0.2575, 0.2362, 0.2822, 0.2687],\n",
       "         [0.2305, 0.2553, 0.2560, 0.2159, 0.2156, 0.2419, 0.2412, 0.2159,\n",
       "          0.2038, 0.1780, 0.2292, 0.2591, 0.2148, 0.2039, 0.2130, 0.2296,\n",
       "          0.2418, 0.2356, 0.2194, 0.2330, 0.2865, 0.3055, 0.2516, 0.2312,\n",
       "          0.2738, 0.2702, 0.2654, 0.2265, 0.2697, 0.2364],\n",
       "         [0.2181, 0.2107, 0.1785, 0.2069, 0.2041, 0.2246, 0.2239, 0.2573,\n",
       "          0.2420, 0.2179, 0.2039, 0.2566, 0.2342, 0.2859, 0.3026, 0.2649,\n",
       "          0.2379, 0.2618, 0.2913, 0.2683, 0.2791, 0.2634, 0.2940, 0.3256,\n",
       "          0.3288, 0.2860, 0.2898, 0.3135, 0.3108, 0.3048],\n",
       "         [0.1987, 0.2263, 0.2643, 0.2468, 0.2554, 0.2554, 0.2585, 0.2421,\n",
       "          0.2348, 0.2706, 0.3112, 0.2814, 0.2760, 0.3011, 0.2920, 0.3314,\n",
       "          0.3263, 0.3386, 0.3162, 0.3126, 0.3265, 0.2795, 0.2877, 0.3601,\n",
       "          0.3527, 0.3379, 0.3523, 0.3657, 0.3102, 0.3413],\n",
       "         [0.1981, 0.2489, 0.2567, 0.2533, 0.2713, 0.2539, 0.2453, 0.2654,\n",
       "          0.2531, 0.2990, 0.3553, 0.3032, 0.3205, 0.3310, 0.2810, 0.3198,\n",
       "          0.3332, 0.3624, 0.3399, 0.3710, 0.3682, 0.3528, 0.3604, 0.3856,\n",
       "          0.3812, 0.3681, 0.3203, 0.3469, 0.3400, 0.3049],\n",
       "         [0.2678, 0.2409, 0.2738, 0.2235, 0.2593, 0.2637, 0.2561, 0.2926,\n",
       "          0.2590, 0.2715, 0.3149, 0.2818, 0.3308, 0.3280, 0.3140, 0.3531,\n",
       "          0.3691, 0.3692, 0.3631, 0.3723, 0.3486, 0.4022, 0.4036, 0.3671,\n",
       "          0.4094, 0.4328, 0.3986, 0.3895, 0.4095, 0.3761],\n",
       "         [0.1991, 0.2635, 0.2781, 0.2294, 0.2760, 0.2775, 0.2506, 0.3054,\n",
       "          0.2985, 0.3018, 0.3077, 0.2840, 0.3564, 0.3719, 0.3809, 0.3819,\n",
       "          0.4075, 0.4099, 0.4112, 0.4162, 0.4214, 0.4556, 0.4467, 0.4263,\n",
       "          0.4235, 0.4743, 0.4639, 0.4089, 0.4252, 0.4314],\n",
       "         [0.2396, 0.2554, 0.2596, 0.3150, 0.2510, 0.2576, 0.3021, 0.3225,\n",
       "          0.3670, 0.3233, 0.3396, 0.3536, 0.3418, 0.3668, 0.3335, 0.3622,\n",
       "          0.3888, 0.4216, 0.3648, 0.4062, 0.4847, 0.5287, 0.5103, 0.5024,\n",
       "          0.5011, 0.4983, 0.4761, 0.4916, 0.4842, 0.4898],\n",
       "         [0.2014, 0.2124, 0.2440, 0.2892, 0.2654, 0.2912, 0.3094, 0.3216,\n",
       "          0.3341, 0.2691, 0.3326, 0.4018, 0.3428, 0.3778, 0.4171, 0.3895,\n",
       "          0.3873, 0.4544, 0.4177, 0.4612, 0.4489, 0.4689, 0.5322, 0.5359,\n",
       "          0.5449, 0.5384, 0.5193, 0.5407, 0.5608, 0.5150],\n",
       "         [0.1957, 0.1999, 0.2249, 0.2627, 0.2803, 0.3047, 0.3212, 0.3465,\n",
       "          0.3184, 0.3089, 0.3400, 0.3734, 0.3262, 0.3653, 0.3655, 0.4231,\n",
       "          0.4271, 0.4556, 0.4109, 0.4795, 0.5061, 0.5197, 0.5133, 0.5481,\n",
       "          0.6061, 0.6061, 0.5845, 0.5103, 0.5057, 0.5704],\n",
       "         [0.2471, 0.3040, 0.2901, 0.3115, 0.3277, 0.3433, 0.3180, 0.3133,\n",
       "          0.2612, 0.2616, 0.3479, 0.3642, 0.3009, 0.3686, 0.3992, 0.4078,\n",
       "          0.4366, 0.4609, 0.5049, 0.5144, 0.5043, 0.5261, 0.6092, 0.6043,\n",
       "          0.5997, 0.6248, 0.6485, 0.5780, 0.6275, 0.6174],\n",
       "         [0.2605, 0.2869, 0.2415, 0.2564, 0.3341, 0.3421, 0.3290, 0.3355,\n",
       "          0.2936, 0.2969, 0.3194, 0.3922, 0.3772, 0.3900, 0.4285, 0.4237,\n",
       "          0.5097, 0.5488, 0.5317, 0.5498, 0.5596, 0.5723, 0.6750, 0.6961,\n",
       "          0.6991, 0.7365, 0.6582, 0.6426, 0.6965, 0.6919],\n",
       "         [0.2487, 0.2846, 0.2725, 0.3180, 0.2594, 0.2799, 0.3079, 0.3273,\n",
       "          0.3055, 0.3477, 0.3530, 0.3912, 0.3822, 0.3885, 0.4335, 0.4644,\n",
       "          0.4896, 0.5293, 0.5596, 0.6386, 0.6699, 0.7101, 0.7226, 0.7332,\n",
       "          0.7455, 0.7854, 0.7620, 0.7974, 0.6799, 0.6774],\n",
       "         [0.2546, 0.2715, 0.3060, 0.3554, 0.3403, 0.3760, 0.3230, 0.3098,\n",
       "          0.3159, 0.3474, 0.3732, 0.3664, 0.3530, 0.4142, 0.4565, 0.4782,\n",
       "          0.5498, 0.5236, 0.6153, 0.6691, 0.7213, 0.7563, 0.7901, 0.8120,\n",
       "          0.8412, 0.8861, 0.8082, 0.7745, 0.7709, 0.7564],\n",
       "         [0.2605, 0.2702, 0.3194, 0.3403, 0.2831, 0.2923, 0.3044, 0.3084,\n",
       "          0.3218, 0.3347, 0.3662, 0.3557, 0.3325, 0.4366, 0.4801, 0.5173,\n",
       "          0.5617, 0.4973, 0.6131, 0.7001, 0.6985, 0.7914, 0.7996, 0.8779,\n",
       "          0.9543, 1.0000, 0.9037, 0.8170, 0.8128, 0.8193],\n",
       "         [0.2771, 0.2957, 0.3240, 0.2889, 0.2690, 0.2403, 0.3001, 0.3173,\n",
       "          0.2616, 0.3424, 0.3596, 0.3706, 0.4423, 0.4281, 0.4439, 0.5080,\n",
       "          0.5712, 0.6272, 0.6757, 0.7529, 0.7778, 0.8346, 0.8631, 0.8946,\n",
       "          0.9682, 0.9350, 0.9523, 0.9164, 0.8191, 0.7520],\n",
       "         [0.2794, 0.2365, 0.2579, 0.2951, 0.3341, 0.2468, 0.3006, 0.2743,\n",
       "          0.2690, 0.3387, 0.3057, 0.3751, 0.3945, 0.3989, 0.4549, 0.5074,\n",
       "          0.5476, 0.6661, 0.6554, 0.7291, 0.7181, 0.8379, 0.9482, 0.9261,\n",
       "          0.9639, 0.9701, 0.9651, 0.9219, 0.7872, 0.7385],\n",
       "         [0.2976, 0.3023, 0.2621, 0.2681, 0.2462, 0.2697, 0.3075, 0.2895,\n",
       "          0.2808, 0.2766, 0.3101, 0.3345, 0.3697, 0.4769, 0.4971, 0.5158,\n",
       "          0.5094, 0.6144, 0.6096, 0.6746, 0.7329, 0.8401, 0.8738, 0.8877,\n",
       "          0.9215, 0.9529, 0.9411, 0.9116, 0.7708, 0.7759],\n",
       "         [0.2741, 0.3096, 0.2706, 0.2385, 0.2854, 0.3308, 0.3140, 0.3277,\n",
       "          0.3089, 0.3083, 0.3694, 0.4018, 0.3784, 0.4177, 0.4664, 0.4976,\n",
       "          0.5312, 0.5561, 0.6262, 0.6740, 0.7172, 0.7437, 0.7917, 0.7858,\n",
       "          0.8487, 0.8535, 0.7959, 0.7779, 0.6962, 0.6459],\n",
       "         [0.2888, 0.2774, 0.2465, 0.2760, 0.3360, 0.2929, 0.2740, 0.3097,\n",
       "          0.3214, 0.3117, 0.3320, 0.3668, 0.4017, 0.4196, 0.4184, 0.5232,\n",
       "          0.4910, 0.5185, 0.6228, 0.6320, 0.6788, 0.7364, 0.7172, 0.7432,\n",
       "          0.7868, 0.7592, 0.7452, 0.7082, 0.6768, 0.6098],\n",
       "         [0.2968, 0.2714, 0.2074, 0.2218, 0.2613, 0.2419, 0.2558, 0.2771,\n",
       "          0.2553, 0.3244, 0.3443, 0.3042, 0.3445, 0.4268, 0.4479, 0.4705,\n",
       "          0.4871, 0.5682, 0.5618, 0.6203, 0.6245, 0.6587, 0.6522, 0.7339,\n",
       "          0.7080, 0.5921, 0.6754, 0.6971, 0.6127, 0.5952],\n",
       "         [0.3345, 0.2633, 0.2345, 0.2951, 0.2967, 0.2576, 0.2603, 0.2573,\n",
       "          0.2745, 0.3360, 0.3779, 0.3508, 0.3216, 0.4092, 0.4487, 0.4726,\n",
       "          0.4429, 0.4875, 0.5381, 0.5396, 0.5570, 0.5958, 0.6269, 0.6622,\n",
       "          0.6378, 0.5818, 0.6237, 0.5482, 0.5853, 0.5799],\n",
       "         [0.3121, 0.3275, 0.2684, 0.2534, 0.3114, 0.2780, 0.3091, 0.2902,\n",
       "          0.3540, 0.3394, 0.3209, 0.3189, 0.3350, 0.4069, 0.3863, 0.4162,\n",
       "          0.4297, 0.5251, 0.4815, 0.5645, 0.5660, 0.5543, 0.5602, 0.5376,\n",
       "          0.5545, 0.5578, 0.5672, 0.4913, 0.5298, 0.4934],\n",
       "         [0.3645, 0.3239, 0.2763, 0.2505, 0.3108, 0.3076, 0.2608, 0.2601,\n",
       "          0.2887, 0.2755, 0.2762, 0.3014, 0.3272, 0.3624, 0.4064, 0.3713,\n",
       "          0.4080, 0.4807, 0.4239, 0.5475, 0.5376, 0.4752, 0.4950, 0.4403,\n",
       "          0.5098, 0.4937, 0.5026, 0.5109, 0.4771, 0.4465],\n",
       "         [0.3270, 0.3345, 0.3039, 0.3050, 0.2483, 0.3010, 0.2502, 0.3157,\n",
       "          0.2570, 0.2602, 0.3250, 0.2932, 0.3291, 0.3440, 0.3398, 0.3354,\n",
       "          0.3846, 0.4050, 0.4223, 0.4137, 0.4514, 0.4756, 0.4650, 0.4472,\n",
       "          0.4698, 0.4497, 0.4631, 0.4361, 0.4190, 0.4370],\n",
       "         [0.2907, 0.3284, 0.2573, 0.3111, 0.2692, 0.2900, 0.2759, 0.2809,\n",
       "          0.2912, 0.3063, 0.3373, 0.3274, 0.3306, 0.3145, 0.3383, 0.3586,\n",
       "          0.3521, 0.3631, 0.4193, 0.4465, 0.3750, 0.4287, 0.4734, 0.4389,\n",
       "          0.4267, 0.4263, 0.4232, 0.4227, 0.4568, 0.4685],\n",
       "         [0.3072, 0.2738, 0.3155, 0.3546, 0.2487, 0.3044, 0.3120, 0.2316,\n",
       "          0.2352, 0.3241, 0.3435, 0.2877, 0.3245, 0.3239, 0.3354, 0.3334,\n",
       "          0.3378, 0.3049, 0.3712, 0.4002, 0.4179, 0.3976, 0.4460, 0.4015,\n",
       "          0.4098, 0.4522, 0.4257, 0.3848, 0.3695, 0.3886]]])"
      ]
     },
     "execution_count": 109,
     "metadata": {},
     "output_type": "execute_result"
    }
   ],
   "source": [
    "rot_and_flip_false(prueba.float())[0] =="
   ]
  },
  {
   "cell_type": "code",
   "execution_count": null,
   "id": "ef2bd65d",
   "metadata": {},
   "outputs": [],
   "source": []
  },
  {
   "cell_type": "code",
   "execution_count": 105,
   "id": "914d985c",
   "metadata": {},
   "outputs": [
    {
     "data": {
      "text/plain": [
       "tensor([ True,  True,  True,  True,  True,  True,  True,  True,  True,  True,\n",
       "         True,  True,  True,  True,  True,  True, False, False, False, False,\n",
       "        False, False, False, False, False, False, False, False, False, False,\n",
       "        False,  True,  True, False,  True, False,  True, False, False, False,\n",
       "        False, False, False, False, False, False, False, False,  True,  True,\n",
       "         True,  True,  True,  True,  True,  True,  True,  True,  True,  True,\n",
       "         True,  True,  True,  True,  True,  True,  True,  True,  True,  True,\n",
       "         True,  True,  True,  True,  True,  True,  True,  True,  True,  True,\n",
       "         True,  True,  True,  True,  True,  True,  True,  True,  True,  True,\n",
       "         True,  True,  True,  True,  True,  True, False, False, False,  True,\n",
       "        False,  True,  True,  True,  True,  True,  True,  True,  True,  True,\n",
       "         True,  True, False,  True, False, False, False, False, False,  True,\n",
       "        False, False, False, False, False, False, False, False,  True,  True,\n",
       "         True,  True,  True,  True,  True,  True,  True,  True,  True,  True,\n",
       "         True,  True,  True,  True,  True,  True,  True,  True,  True,  True,\n",
       "         True,  True,  True,  True,  True,  True,  True,  True,  True,  True,\n",
       "         True,  True,  True,  True,  True,  True,  True,  True,  True,  True,\n",
       "         True,  True,  True,  True,  True,  True,  True,  True,  True,  True,\n",
       "         True,  True,  True,  True,  True,  True,  True,  True,  True,  True,\n",
       "         True,  True, False, False,  True,  True, False,  True,  True,  True,\n",
       "        False,  True,  True,  True, False,  True,  True,  True, False, False,\n",
       "        False, False, False, False,  True, False, False, False, False, False,\n",
       "        False, False, False, False, False, False, False, False, False, False,\n",
       "        False, False, False, False,  True, False, False, False, False, False,\n",
       "        False, False,  True,  True, False,  True,  True,  True, False,  True,\n",
       "         True,  True, False, False, False, False,  True, False, False, False,\n",
       "        False, False, False, False, False, False, False, False, False, False,\n",
       "        False, False, False, False, False, False, False, False, False, False,\n",
       "        False, False, False, False, False,  True, False, False,  True,  True,\n",
       "         True,  True,  True,  True,  True,  True,  True,  True,  True,  True,\n",
       "         True,  True,  True,  True,  True, False, False, False, False, False,\n",
       "        False, False, False, False, False, False, False, False, False,  True,\n",
       "         True,  True,  True,  True,  True,  True,  True,  True,  True,  True,\n",
       "         True,  True,  True,  True,  True,  True,  True,  True,  True,  True,\n",
       "         True,  True,  True,  True,  True,  True,  True,  True,  True,  True,\n",
       "         True,  True, False, False, False, False, False, False, False, False,\n",
       "        False, False, False, False, False, False, False, False,  True,  True,\n",
       "         True,  True,  True,  True,  True,  True,  True,  True,  True, False,\n",
       "         True,  True,  True, False,  True,  True,  True,  True,  True,  True,\n",
       "         True,  True,  True,  True,  True,  True,  True,  True,  True,  True,\n",
       "        False, False, False, False, False, False, False, False, False, False,\n",
       "        False, False, False, False, False, False, False, False, False, False,\n",
       "        False, False, False, False, False, False, False, False, False,  True,\n",
       "        False, False,  True,  True,  True,  True,  True,  True,  True,  True,\n",
       "         True,  True,  True,  True,  True,  True,  True,  True,  True,  True,\n",
       "         True,  True,  True,  True,  True,  True,  True,  True,  True,  True,\n",
       "         True,  True,  True,  True, False, False, False, False, False, False,\n",
       "        False, False, False, False, False, False, False, False, False, False,\n",
       "        False, False, False, False, False, False, False, False, False, False,\n",
       "        False,  True, False,  True, False, False,  True,  True,  True,  True,\n",
       "         True,  True,  True,  True,  True,  True,  True,  True,  True,  True,\n",
       "         True,  True,  True,  True,  True,  True,  True,  True,  True,  True,\n",
       "         True,  True,  True,  True,  True,  True,  True,  True,  True,  True,\n",
       "         True,  True,  True,  True,  True,  True,  True,  True,  True,  True,\n",
       "         True,  True,  True,  True,  True,  True,  True,  True,  True,  True,\n",
       "         True,  True,  True,  True,  True,  True,  True,  True,  True,  True,\n",
       "         True,  True,  True,  True,  True,  True,  True,  True,  True,  True,\n",
       "         True,  True,  True,  True,  True,  True,  True,  True,  True,  True,\n",
       "         True,  True,  True,  True,  True,  True,  True,  True,  True,  True,\n",
       "         True,  True,  True,  True,  True,  True,  True,  True,  True,  True,\n",
       "         True,  True,  True,  True,  True,  True,  True,  True, False, False,\n",
       "         True, False, False, False,  True, False,  True, False, False, False,\n",
       "        False, False, False, False, False,  True, False, False,  True, False,\n",
       "        False, False,  True,  True, False, False, False, False, False, False,\n",
       "        False, False, False, False, False, False, False, False, False, False,\n",
       "        False, False, False, False, False, False])"
      ]
     },
     "execution_count": 105,
     "metadata": {},
     "output_type": "execute_result"
    }
   ],
   "source": [
    "output[0] == out1[0]"
   ]
  },
  {
   "cell_type": "code",
   "execution_count": 57,
   "id": "08a31737",
   "metadata": {},
   "outputs": [
    {
     "data": {
      "text/plain": [
       "torch.Size([1, 656])"
      ]
     },
     "execution_count": 57,
     "metadata": {},
     "output_type": "execute_result"
    }
   ],
   "source": [
    "out1.shape"
   ]
  },
  {
   "cell_type": "code",
   "execution_count": 26,
   "id": "8af206da",
   "metadata": {},
   "outputs": [],
   "source": [
    "import os\n",
    "import sys\n",
    "import logging\n",
    "from functools import partial\n",
    "\n",
    "import gdown\n",
    "import torch\n",
    "import numpy as np\n",
    "\n",
    "import matplotlib.pyplot as plt"
   ]
  },
  {
   "cell_type": "code",
   "execution_count": null,
   "id": "63cd9d8d",
   "metadata": {},
   "outputs": [],
   "source": [
    "# url = \"https://drive.google.com/drive/u/2/folders/1UkHvXq2oNySMN2Hv2K1H9ptygvi2KgdM\"\n",
    "# source = os.path.join(os.getcwd(), \"data\")\n",
    "# gdown.download_folder(url, output=source, quiet=False)"
   ]
  },
  {
   "cell_type": "code",
   "execution_count": 20,
   "id": "25d6f739",
   "metadata": {},
   "outputs": [],
   "source": [
    "X_train = np.load(\"/Users/legers/Desktop/Galaxias/tesis/data/X_train.npy\")\n",
    "X_val = np.load(\"/Users/legers/Desktop/Galaxias/tesis/data/X_validation.npy\")\n",
    "X_test = np.load(\"/Users/legers/Desktop/Galaxias/tesis/data/X_test.npy\")\n",
    "\n",
    "y_train = np.load(\"/Users/legers/Desktop/Galaxias/tesis/data/y_train.npy\")\n",
    "y_val = np.load(\"/Users/legers/Desktop/Galaxias/tesis/data/y_validation.npy\")\n",
    "y_test = np.load(\"/Users/legers/Desktop/Galaxias/tesis/data/y_test.npy\")"
   ]
  },
  {
   "cell_type": "code",
   "execution_count": 21,
   "id": "a769a128",
   "metadata": {},
   "outputs": [
    {
     "data": {
      "text/plain": [
       "16791"
      ]
     },
     "execution_count": 21,
     "metadata": {},
     "output_type": "execute_result"
    }
   ],
   "source": [
    "X_train.shape[0] + X_val.shape[0] + X_test.shape[0]"
   ]
  },
  {
   "cell_type": "code",
   "execution_count": 175,
   "id": "3a2c479a",
   "metadata": {},
   "outputs": [],
   "source": [
    "def plot_example(X, y, idx):\n",
    "\n",
    "    dx, dy = y[idx]\n",
    "\n",
    "    fig, axs = plt.subplots(1,5, figsize=(15,3))\n",
    "\n",
    "    for i in range(5):\n",
    "        axs[i].imshow(X[idx][:,:,i], origin=\"lower\")\n",
    "\n",
    "        x_end = 15 + dx/(2**i)\n",
    "        y_end = 15 + dy/(2**i)\n",
    "\n",
    "        axs[i].plot([15, y_end], [15, x_end], color='red')\n",
    "        axs[i].scatter(y_end, x_end, color='black', marker='*', s=100)\n",
    "\n",
    "    plt.show()\n"
   ]
  },
  {
   "cell_type": "code",
   "execution_count": 640,
   "id": "6b08faee",
   "metadata": {},
   "outputs": [
    {
     "data": {
      "image/png": "[encoded data removed]",
      "text/plain": [
       "<Figure size 1500x300 with 5 Axes>"
      ]
     },
     "metadata": {},
     "output_type": "display_data"
    }
   ],
   "source": [
    "plot_example(X_train, y_train, idx=25)"
   ]
  },
  {
   "cell_type": "markdown",
   "id": "734da6c7",
   "metadata": {},
   "source": [
    "### Album"
   ]
  },
  {
   "cell_type": "code",
   "execution_count": null,
   "id": "eabecf39",
   "metadata": {},
   "outputs": [],
   "source": [
    "import albumentations as A"
   ]
  },
  {
   "cell_type": "code",
   "execution_count": 482,
   "id": "90ca9646",
   "metadata": {},
   "outputs": [],
   "source": [
    "def plot(X,y,idx):\n",
    "\n",
    "    transform = A.Compose([\n",
    "    A.RandomRotate90(p=1.0),\n",
    "    A.HorizontalFlip(),\n",
    "    ], keypoint_params=A.KeypointParams(format='xy', remove_invisible=False))\n",
    "    \n",
    "    keypoint = (y[idx][1] + 15, y[idx][0] + 15)  # (x, y)\n",
    "    transformed = transform(image=X[idx], keypoints=[keypoint])\n",
    "    transformed_image = transformed['image']\n",
    "    transformed_keypoints = transformed['keypoints']\n",
    "\n",
    "    fig, axs = plt.subplots(1, 2, figsize=(10, 5))\n",
    "\n",
    "    # Imagen transformada con keypoint\n",
    "    axs[0].imshow(transformed_image[:, :, 0], origin=\"lower\")\n",
    "    axs[0].scatter(transformed_keypoints[0][0], transformed_keypoints[0][1], color='black', marker='*', s=100)\n",
    "    axs[0].set_title('Imagen transformada')\n",
    "\n",
    "    # Imagen original\n",
    "    axs[1].imshow(X[idx][:,:,0] ,origin=\"lower\")\n",
    "    axs[1].scatter(15+y[idx][1], 15+y[idx][0],color='black', marker='*', s=100)\n",
    "\n",
    "    axs[1].set_title('Imagen original')\n",
    "\n",
    "    plt.tight_layout()\n",
    "    plt.show()"
   ]
  },
  {
   "cell_type": "code",
   "execution_count": 486,
   "id": "5ce2b2d9",
   "metadata": {},
   "outputs": [
    {
     "data": {
      "image/png": "[encoded data removed]",
      "text/plain": [
       "<Figure size 1000x500 with 2 Axes>"
      ]
     },
     "metadata": {},
     "output_type": "display_data"
    }
   ],
   "source": [
    "plot(X_train,y_train,idx=301)"
   ]
  },
  {
   "cell_type": "code",
   "execution_count": 49,
   "id": "7b9e96a0",
   "metadata": {},
   "outputs": [],
   "source": [
    "import torch\n",
    "import random\n",
    "\n",
    "import numpy as np\n",
    "\n",
    "from typing import Sequence\n",
    "from torch.utils.data import DataLoader, Dataset\n",
    "\n",
    "\n",
    "class CustomDataset(Dataset):\n",
    "    def __init__(self,imgs, sn_pos, transform=None):\n",
    "\n",
    "        self.imgs = imgs\n",
    "        self.sn_pos =sn_pos\n",
    "        self.transform = transform\n",
    "\n",
    "    def __len__(self):\n",
    "        return len(self.sn_pos)\n",
    "\n",
    "    def __getitem__(self, idx):\n",
    "\n",
    "        image = self.imgs[idx]  \n",
    "        keypoints = self.sn_pos[idx][::-1] +15\n",
    "        #keypoints = (self.sn_pos[idx][0]+15, self.sn_pos[idx][1]+15)\n",
    "\n",
    "        if self.transform:\n",
    "            transformed = self.transform(image=image, keypoints=[keypoints])\n",
    "            image = transformed[\"image\"]\n",
    "            keypoints = transformed[\"keypoints\"]\n",
    "\n",
    "            return image, np.array(keypoints[0])\n",
    "        \n",
    "        else:\n",
    "            transforms = [\n",
    "                A.NoOp(),\n",
    "                A.Rotate(limit=(90, 90), p=1.0),\n",
    "                A.Rotate(limit=(180, 180), p=1.0),\n",
    "                A.Rotate(limit=(270, 270), p=1.0),\n",
    "                A.HorizontalFlip(p=1.0),\n",
    "                A.Compose([A.HorizontalFlip(p=1.0), A.Rotate(limit=(90, 90), p=1.0)]),\n",
    "                A.Compose([A.HorizontalFlip(p=1.0), A.Rotate(limit=(180, 180), p=1.0)]),\n",
    "                A.Compose([A.HorizontalFlip(p=1.0), A.Rotate(limit=(270, 270), p=1.0)]),\n",
    "            ]\n",
    "\n",
    "            images = []\n",
    "            keys = []\n",
    "\n",
    "            for t in transforms:\n",
    "                composed = A.Compose([t, A.pytorch.ToTensorV2()], keypoint_params=A.KeypointParams(format='xy', remove_invisible=False))\n",
    "                transformed = composed(image=image, keypoints=[keypoints])\n",
    "                images.append(transformed[\"image\"])\n",
    "                keys.append(transformed[\"keypoints\"][0])\n",
    "\n",
    "            return np.expand_dims(np.stack(images), axis=2), np.stack(keypoints)"
   ]
  },
  {
   "cell_type": "code",
   "execution_count": 50,
   "id": "540a3b36",
   "metadata": {},
   "outputs": [],
   "source": [
    "dataset = CustomDataset(X_train, y_train, transform=None)"
   ]
  },
  {
   "cell_type": "code",
   "execution_count": 51,
   "id": "ac3cbd5b",
   "metadata": {},
   "outputs": [
    {
     "data": {
      "text/plain": [
       "(8, 5, 1, 30, 30)"
      ]
     },
     "execution_count": 51,
     "metadata": {},
     "output_type": "execute_result"
    }
   ],
   "source": [
    "dataset[0][0].shape"
   ]
  },
  {
   "cell_type": "code",
   "execution_count": 52,
   "id": "1e8a2f79",
   "metadata": {},
   "outputs": [],
   "source": [
    "loader = DataLoader(\n",
    "          dataset,\n",
    "          batch_size=4,\n",
    "          shuffle=False,\n",
    "          pin_memory=False,\n",
    "        )\n"
   ]
  },
  {
   "cell_type": "code",
   "execution_count": 53,
   "id": "a8e4a74e",
   "metadata": {},
   "outputs": [],
   "source": [
    "batch = next(iter(loader))\n"
   ]
  },
  {
   "cell_type": "code",
   "execution_count": 56,
   "id": "7ea1d7ec",
   "metadata": {},
   "outputs": [
    {
     "data": {
      "text/plain": [
       "torch.Size([4, 8, 5, 1, 30, 30])"
      ]
     },
     "execution_count": 56,
     "metadata": {},
     "output_type": "execute_result"
    }
   ],
   "source": [
    "batch[0].shape"
   ]
  },
  {
   "cell_type": "code",
   "execution_count": null,
   "id": "4b6ee059",
   "metadata": {},
   "outputs": [
    {
     "data": {
      "image/png": "[encoded data removed]",
      "text/plain": [
       "<Figure size 640x480 with 1 Axes>"
      ]
     },
     "metadata": {},
     "output_type": "display_data"
    }
   ],
   "source": [
    "batch = next(iter(loader))\n",
    "\n",
    "idx =3\n",
    "image = batch[0][idx]\n",
    "keypoints = batch[1][idx]\n",
    "\n",
    "plt.imshow(image[:,:,0])\n",
    "plt.scatter(keypoints[0], keypoints[1], color='black', marker='*', s=100)\n",
    "\n",
    "plt.show()"
   ]
  },
  {
   "cell_type": "markdown",
   "id": "920ecb72",
   "metadata": {},
   "source": [
    "### Test dataloader"
   ]
  },
  {
   "cell_type": "code",
   "execution_count": 85,
   "id": "c4921f08",
   "metadata": {},
   "outputs": [],
   "source": [
    "import torch\n",
    "import random\n",
    "\n",
    "import numpy as np\n",
    "import lightning as L\n",
    "\n",
    "from torch.utils.data import DataLoader, Dataset\n",
    "import albumentations as A"
   ]
  },
  {
   "cell_type": "code",
   "execution_count": 150,
   "id": "11b453d9",
   "metadata": {},
   "outputs": [],
   "source": [
    "class DelighDataset(Dataset):\n",
    "    def __init__(self,imgs, sn_pos, augmentation=\"delight\"):\n",
    "\n",
    "        self.imgs = imgs\n",
    "        self.sn_pos =sn_pos\n",
    "        self.augmentation = augmentation\n",
    "\n",
    "    def __len__(self):\n",
    "        return len(self.sn_pos)\n",
    "\n",
    "    def __getitem__(self, idx):\n",
    "\n",
    "        image = self.imgs[idx]  \n",
    "        keypoints = self.sn_pos[idx][::-1] + 15\n",
    "\n",
    "        if self.augmentation == \"data_augmentation\":\n",
    "\n",
    "            transform = A.Compose([\n",
    "                A.RandomRotate90(p=0.5),\n",
    "                A.HorizontalFlip(p=0.5),\n",
    "                A.pytorch.ToTensorV2()\n",
    "                ], keypoint_params=A.KeypointParams(format='xy', remove_invisible=False))\n",
    "                \n",
    "            transformed = transform(image=image, keypoints=[keypoints])\n",
    "            image = transformed[\"image\"]\n",
    "            keypoints = transformed[\"keypoints\"]\n",
    "\n",
    "            return image, np.array(keypoints[0])\n",
    "        \n",
    "        elif self.augmentation == \"delight\":\n",
    "            transforms = [\n",
    "                A.NoOp(),\n",
    "                A.Rotate(limit=(90, 90), p=1.0),\n",
    "                A.Rotate(limit=(180, 180), p=1.0),\n",
    "                A.Rotate(limit=(270, 270), p=1.0),\n",
    "                A.HorizontalFlip(p=1.0),\n",
    "                A.Compose([A.HorizontalFlip(p=1.0), A.Rotate(limit=(90, 90), p=1.0)]),\n",
    "                A.Compose([A.HorizontalFlip(p=1.0), A.Rotate(limit=(180, 180), p=1.0)]),\n",
    "                A.Compose([A.HorizontalFlip(p=1.0), A.Rotate(limit=(270, 270), p=1.0)]),\n",
    "            ]\n",
    "\n",
    "            images = []\n",
    "            keys = []\n",
    "\n",
    "            for t in transforms:\n",
    "                composed = A.Compose([t, A.pytorch.ToTensorV2()], keypoint_params=A.KeypointParams(format='xy', remove_invisible=False))\n",
    "                transformed = composed(image=image, keypoints=[keypoints])\n",
    "                images.append(transformed[\"image\"])\n",
    "                keys.append(transformed[\"keypoints\"][0])\n",
    "\n",
    "            return np.expand_dims(np.stack(images), axis=2), np.stack(keys)\n",
    "        \n",
    "\n",
    "        elif self.augmentation == \"None\":\n",
    "\n",
    "            transform = A.Compose([\n",
    "                A.pytorch.ToTensorV2()\n",
    "                ], keypoint_params=A.KeypointParams(format='xy', remove_invisible=False))\n",
    "                \n",
    "            transformed = transform(image=image, keypoints=[keypoints])\n",
    "            image = transformed[\"image\"]\n",
    "            keypoints = transformed[\"keypoints\"]\n",
    "\n",
    "            return image, np.array(keypoints[0])\n",
    "            \n",
    "\n",
    "def seed_worker(worker_id):\n",
    "    worker_seed = torch.initial_seed() % 2**32\n",
    "    np.random.seed(worker_seed)\n",
    "    random.seed(worker_seed)\n",
    "\n",
    "class DelightDataModule(L.LightningDataModule):\n",
    "    \n",
    "    def __init__(self, X_train, X_val, X_test,\n",
    "                 y_train, y_val, y_test, batch_size=128, seed=0, num_workers =4, train_augmentation=\"delight\"):\n",
    "        super().__init__()\n",
    "        self.X_train = X_train\n",
    "        self.X_val = X_val\n",
    "        self.X_test = X_test\n",
    "\n",
    "        self.y_train = y_train\n",
    "        self.y_val = y_val\n",
    "        self.y_test = y_test\n",
    "\n",
    "\n",
    "        self.batch_size = batch_size\n",
    "        self.seed = seed\n",
    "        self.num_workers = num_workers\n",
    "        self.train_augmentation = train_augmentation\n",
    "\n",
    "        self.persistent = num_workers > 0 and torch.cuda.is_available()\n",
    "\n",
    "\n",
    "    def setup(self, stage=None):\n",
    "        \n",
    "        self.train_dataset = DelighDataset(\n",
    "          self.X_train,\n",
    "          self.y_train,\n",
    "          augmentation=self.train_augmentation,\n",
    "        )\n",
    "\n",
    "        self.val_dataset = DelighDataset(\n",
    "          self.X_val,\n",
    "          self.y_val,\n",
    "          augmentation = self.train_augmentation if self.train_augmentation == \"delight\" else \"None\"\n",
    "        )\n",
    "\n",
    "\n",
    "        self.test_dataset = DelighDataset(\n",
    "          self.X_test,\n",
    "          self.y_test,\n",
    "          augmentation= self.train_augmentation if self.train_augmentation == \"delight\" else \"None\",\n",
    "          )\n",
    "        \n",
    "\n",
    "    def train_dataloader(self):\n",
    "        return DataLoader(\n",
    "            dataset=self.train_dataset,\n",
    "            batch_size=self.batch_size,\n",
    "            shuffle=True,\n",
    "            num_workers=self.num_workers,\n",
    "            persistent_workers=self.persistent,\n",
    "            pin_memory=False,\n",
    "            worker_init_fn=seed_worker,\n",
    "            generator=torch.Generator().manual_seed(self.seed)\n",
    "        )\n",
    "\n",
    "    def val_dataloader(self):\n",
    "        return DataLoader(\n",
    "            self.val_dataset,\n",
    "            batch_size=self.batch_size,\n",
    "            shuffle=False,\n",
    "            num_workers=self.num_workers,\n",
    "            persistent_workers=self.persistent,\n",
    "            pin_memory=False,\n",
    "            worker_init_fn=seed_worker,\n",
    "            generator=torch.Generator().manual_seed(self.seed)\n",
    "        )\n",
    "\n",
    "    def predict_dataloader(self):\n",
    "        return DataLoader(\n",
    "            self.test_dataset,\n",
    "            batch_size=self.batch_size,\n",
    "            shuffle=False,\n",
    "            num_workers=self.num_workers,\n",
    "            persistent_workers=self.persistent,\n",
    "            pin_memory=False,\n",
    "            worker_init_fn=seed_worker,\n",
    "            generator=torch.Generator().manual_seed(self.seed)\n",
    "        )"
   ]
  },
  {
   "cell_type": "code",
   "execution_count": 151,
   "id": "a66aa532",
   "metadata": {},
   "outputs": [],
   "source": [
    "X_train = np.load(\"/Users/legers/Desktop/Galaxias/tesis/data/X_train.npy\")\n",
    "X_val = np.load(\"/Users/legers/Desktop/Galaxias/tesis/data/X_validation.npy\")\n",
    "X_test = np.load(\"/Users/legers/Desktop/Galaxias/tesis/data/X_test.npy\")\n",
    "\n",
    "y_train = np.load(\"/Users/legers/Desktop/Galaxias/tesis/data/y_train.npy\")\n",
    "y_val = np.load(\"/Users/legers/Desktop/Galaxias/tesis/data/y_validation.npy\")\n",
    "y_test = np.load(\"/Users/legers/Desktop/Galaxias/tesis/data/y_test.npy\")"
   ]
  },
  {
   "cell_type": "code",
   "execution_count": 169,
   "id": "6f30d630",
   "metadata": {},
   "outputs": [
    {
     "name": "stderr",
     "output_type": "stream",
     "text": [
      "Seed set to 0\n"
     ]
    }
   ],
   "source": [
    "L.seed_everything(0, workers=True)\n",
    "\n",
    "torch.backends.cudnn.deterministic = True\n",
    "torch.backends.cudnn.benchmark = False\n",
    "torch.set_float32_matmul_precision(\"medium\")\n",
    "\n",
    "dm = DelightDataModule(X_train=X_train, X_val=X_val, X_test=X_test, y_train=y_train, y_val=y_val, y_test=y_test, batch_size=4, num_workers=0, seed=0)\n",
    "\n",
    "dm.setup()"
   ]
  },
  {
   "cell_type": "code",
   "execution_count": 170,
   "id": "8b192072",
   "metadata": {},
   "outputs": [],
   "source": [
    "from dataclasses import dataclass\n",
    "\n",
    "\n",
    "@dataclass\n",
    "class DelightCnnParameters:\n",
    "    \"\"\"Defines DelightCnn parameters.\n",
    "\n",
    "    Attributes:\n",
    "    - nconv1: Number of out channels for first convolutional layer.\n",
    "    - nconv2: Number of out channels for second convolutional layer.\n",
    "    - nconv3: Number of out channels for third convolutional layer.\n",
    "    - ndense: Number of out features for first fully-connected layer.\n",
    "    - dropout: Probability of dropout. 0 means no dropout.\n",
    "    - channels: Number of channels expected from the dataset.\n",
    "    - levels: Quantity of levels expected from the dataset.\n",
    "    - rot: Applies a rotation transformation on the input.\n",
    "    - flip: Applies a flip transformation on the input.\n",
    "    \"\"\"\n",
    "\n",
    "    nconv1: int\n",
    "    nconv2: int\n",
    "    nconv3: int\n",
    "    ndense: int\n",
    "    dropout: float\n",
    "    channels: int\n",
    "    levels: int"
   ]
  },
  {
   "cell_type": "code",
   "execution_count": 171,
   "id": "c211f17f",
   "metadata": {},
   "outputs": [],
   "source": [
    "import math\n",
    "from collections import OrderedDict\n",
    "\n",
    "import torch\n",
    "\n",
    "class DelightCnn(torch.nn.Module):\n",
    "    def __init__(self, options: DelightCnnParameters):\n",
    "        super().__init__()  # type: ignore\n",
    "        bottleneck: OrderedDict[str, torch.nn.Module] = OrderedDict(\n",
    "            [\n",
    "                (\"conv1\", torch.nn.Conv2d(options.channels, options.nconv1, 3)),\n",
    "                (\"relu1\", torch.nn.ReLU()),\n",
    "                (\"mp1\", torch.nn.MaxPool2d(2)),\n",
    "                (\"conv2\", torch.nn.Conv2d(options.nconv1, options.nconv2, 3)),\n",
    "                (\"relu2\", torch.nn.ReLU()),\n",
    "                (\"mp2\", torch.nn.MaxPool2d(2)),\n",
    "                (\"conv3\", torch.nn.Conv2d(options.nconv2, options.nconv3, 3)),\n",
    "                (\"relu3\", torch.nn.ReLU()),\n",
    "                (\"flatten\", torch.nn.Flatten()),\n",
    "            ]\n",
    "        )\n",
    "        regression: OrderedDict[str, torch.nn.Module] = OrderedDict(\n",
    "            [\n",
    "                (\n",
    "                    \"input_layer_ffcc\",\n",
    "                    torch.nn.Linear(\n",
    "                        in_features=4*4*options.nconv3*options.levels,\n",
    "                        out_features=options.ndense,\n",
    "                    ),\n",
    "                ),\n",
    "                (\"tanh\", torch.nn.Tanh()),\n",
    "                (\"dropout\", torch.nn.Dropout(p=options.dropout)),\n",
    "                (\"out\", torch.nn.Linear(in_features=options.ndense, out_features=2)),\n",
    "            ]\n",
    "        )\n",
    "\n",
    "        self.bottleneck = torch.nn.Sequential(bottleneck)\n",
    "        self.regression = torch.nn.Sequential(regression)\n",
    "\n",
    "    def forward(self, x: torch.Tensor) -> torch.Tensor:\n",
    "        batch = x.shape[0]  \n",
    "\n",
    "        print(x.shape)\n",
    "\n",
    "        x = x.reshape(x.shape[-6] * x.shape[-5] * x.shape[-4] , x.shape[-3], x.shape[-2], x.shape[-1])\n",
    "\n",
    "        print(x.shape)\n",
    "        x = self.bottleneck(x)\n",
    "\n",
    "        print(x.shape)\n",
    "        x = x.reshape(batch, 8, -1)\n",
    "        print(x.shape)\n",
    "\n",
    "        x = self.regression(x)\n",
    "        print(x.shape)\n",
    "\n",
    "        return x"
   ]
  },
  {
   "cell_type": "code",
   "execution_count": 172,
   "id": "63e36664",
   "metadata": {},
   "outputs": [],
   "source": [
    "model_parameters = DelightCnnParameters(\n",
    "    nconv1=52,\n",
    "    nconv2=57,\n",
    "    nconv3=41,\n",
    "    ndense=128,\n",
    "    dropout=0.06,\n",
    "    channels=1,\n",
    "    levels=5,\n",
    ")\n",
    "\n",
    "model = DelightCnn(model_parameters)"
   ]
  },
  {
   "cell_type": "code",
   "execution_count": 173,
   "id": "112c0a45",
   "metadata": {},
   "outputs": [],
   "source": [
    "batch = next(iter(dm.train_dataloader()))\n",
    "imgs = batch[0]\n",
    "targets = batch[1]"
   ]
  },
  {
   "cell_type": "code",
   "execution_count": 174,
   "id": "481c7335",
   "metadata": {},
   "outputs": [
    {
     "data": {
      "text/plain": [
       "torch.float64"
      ]
     },
     "execution_count": 174,
     "metadata": {},
     "output_type": "execute_result"
    }
   ],
   "source": [
    "targets.dtype"
   ]
  },
  {
   "cell_type": "code",
   "execution_count": 175,
   "id": "b049a2bc",
   "metadata": {},
   "outputs": [
    {
     "data": {
      "text/plain": [
       "torch.Size([4, 8, 2])"
      ]
     },
     "execution_count": 175,
     "metadata": {},
     "output_type": "execute_result"
    }
   ],
   "source": [
    "targets.shape"
   ]
  },
  {
   "cell_type": "code",
   "execution_count": 158,
   "id": "8fac5570",
   "metadata": {},
   "outputs": [
    {
     "data": {
      "text/plain": [
       "torch.Size([4, 8, 2])"
      ]
     },
     "execution_count": 158,
     "metadata": {},
     "output_type": "execute_result"
    }
   ],
   "source": [
    "targets.shape"
   ]
  },
  {
   "cell_type": "code",
   "execution_count": 159,
   "id": "fe0961c1",
   "metadata": {},
   "outputs": [
    {
     "name": "stdout",
     "output_type": "stream",
     "text": [
      "torch.Size([4, 8, 5, 1, 30, 30])\n",
      "torch.Size([160, 1, 30, 30])\n",
      "torch.Size([160, 656])\n",
      "torch.Size([4, 8, 3280])\n",
      "torch.Size([4, 8, 2])\n"
     ]
    }
   ],
   "source": [
    "out = model(imgs.float())"
   ]
  },
  {
   "cell_type": "code",
   "execution_count": 160,
   "id": "70473f37",
   "metadata": {},
   "outputs": [
    {
     "data": {
      "text/plain": [
       "torch.Size([4, 8, 2])"
      ]
     },
     "execution_count": 160,
     "metadata": {},
     "output_type": "execute_result"
    }
   ],
   "source": [
    "out.shape"
   ]
  },
  {
   "cell_type": "code",
   "execution_count": 164,
   "id": "4545860a",
   "metadata": {},
   "outputs": [
    {
     "name": "stdout",
     "output_type": "stream",
     "text": [
      "tensor(2.2832)\n"
     ]
    }
   ],
   "source": [
    "import torch\n",
    "import torch.nn.functional as F\n",
    "\n",
    "# Supongamos que ya tienes output y target\n",
    "output = torch.randn(4, 8, 2)\n",
    "target = torch.randn(4, 8, 2)\n",
    "\n",
    "loss = F.mse_loss(output, target)\n",
    "print(loss)"
   ]
  },
  {
   "cell_type": "code",
   "execution_count": 165,
   "id": "d08d9270",
   "metadata": {},
   "outputs": [],
   "source": [
    "mse = torch.nn.MSELoss()"
   ]
  },
  {
   "cell_type": "code",
   "execution_count": 166,
   "id": "07c6243c",
   "metadata": {},
   "outputs": [
    {
     "data": {
      "text/plain": [
       "tensor(259.4515, dtype=torch.float64, grad_fn=<MseLossBackward0>)"
      ]
     },
     "execution_count": 166,
     "metadata": {},
     "output_type": "execute_result"
    }
   ],
   "source": [
    "mse(out, targets)"
   ]
  },
  {
   "cell_type": "markdown",
   "id": "2e3312c8",
   "metadata": {},
   "source": [
    "## ALL"
   ]
  },
  {
   "cell_type": "code",
   "execution_count": null,
   "id": "690993e2",
   "metadata": {},
   "outputs": [
    {
     "name": "stderr",
     "output_type": "stream",
     "text": [
      "Seed set to 0\n"
     ]
    },
    {
     "name": "stdout",
     "output_type": "stream",
     "text": [
      "torch.float32 torch.float32\n"
     ]
    },
    {
     "name": "stderr",
     "output_type": "stream",
     "text": [
      "/Users/legers/Desktop/Galaxias/env_galaxias/lib/python3.11/site-packages/albumentations/core/composition.py:331: UserWarning: Got processor for keypoints, but no transform to process it.\n",
      "  self._set_keys()\n"
     ]
    }
   ],
   "source": [
    "import torch\n",
    "import random\n",
    "\n",
    "import numpy as np\n",
    "import lightning as L\n",
    "\n",
    "from torch.utils.data import DataLoader, Dataset\n",
    "import albumentations as A\n",
    "\n",
    "\n",
    "L.seed_everything(0, workers=True)\n",
    "\n",
    "torch.backends.cudnn.deterministic = True\n",
    "torch.backends.cudnn.benchmark = False\n",
    "torch.set_float32_matmul_precision(\"medium\")\n",
    "\n",
    "\n",
    "\n",
    "class DelighDataset(Dataset):\n",
    "    def __init__(self,imgs, sn_pos, augmentation=\"delight\"):\n",
    "\n",
    "        self.imgs = imgs\n",
    "        self.sn_pos =sn_pos\n",
    "        self.augmentation = augmentation\n",
    "\n",
    "    def __len__(self):\n",
    "        return len(self.sn_pos)\n",
    "\n",
    "    def __getitem__(self, idx):\n",
    "\n",
    "        image = self.imgs[idx]  \n",
    "        keypoints = self.sn_pos[idx][::-1] + 15\n",
    "\n",
    "        if self.augmentation == \"data_augmentation\":\n",
    "\n",
    "            transform = A.Compose([\n",
    "                A.RandomRotate90(p=0.5),\n",
    "                A.HorizontalFlip(p=0.5),\n",
    "                A.pytorch.ToTensorV2()\n",
    "                ], keypoint_params=A.KeypointParams(format='xy', remove_invisible=False))\n",
    "                \n",
    "            transformed = transform(image=image, keypoints=[keypoints])\n",
    "            image = transformed[\"image\"]\n",
    "            keypoints = transformed[\"keypoints\"]\n",
    "\n",
    "            return torch.stack(images).unsqueeze(2).float(), torch.tensor(keys).float()\n",
    "        \n",
    "        elif self.augmentation == \"delight\":\n",
    "\n",
    "            transforms = [\n",
    "                A.NoOp(),\n",
    "                A.Rotate(limit=(90, 90), p=1.0),\n",
    "                A.Rotate(limit=(180, 180), p=1.0),\n",
    "                A.Rotate(limit=(270, 270), p=1.0),\n",
    "                A.HorizontalFlip(p=1.0),\n",
    "                A.Compose([A.HorizontalFlip(p=1.0), A.Rotate(limit=(90, 90), p=1.0)]),\n",
    "                A.Compose([A.HorizontalFlip(p=1.0), A.Rotate(limit=(180, 180), p=1.0)]),\n",
    "                A.Compose([A.HorizontalFlip(p=1.0), A.Rotate(limit=(270, 270), p=1.0)]),\n",
    "            ]\n",
    "\n",
    "            images = []\n",
    "            keys = []\n",
    "\n",
    "            for t in transforms:\n",
    "                composed = A.Compose([t, A.pytorch.ToTensorV2()], keypoint_params=A.KeypointParams(format='xy', remove_invisible=False))\n",
    "                transformed = composed(image=image, keypoints=[keypoints])\n",
    "                images.append(transformed[\"image\"])\n",
    "                keys.append(transformed[\"keypoints\"][0])\n",
    "\n",
    "            return torch.stack(images).unsqueeze(2).float(), torch.tensor(keys).float()\n",
    "        \n",
    "\n",
    "        elif self.augmentation == \"None\":\n",
    "            \n",
    "            transform = A.Compose([\n",
    "                A.pytorch.ToTensorV2()\n",
    "                ], keypoint_params=A.KeypointParams(format='xy', remove_invisible=False))\n",
    "                \n",
    "            transformed = transform(image=image, keypoints=[keypoints])\n",
    "            image = transformed[\"image\"]\n",
    "            keypoints = transformed[\"keypoints\"]\n",
    "\n",
    "            return image.unsqueeze(1).float(), torch.tensor(keypoints[0]).float()\n",
    "            \n",
    "\n",
    "def seed_worker(worker_id):\n",
    "    worker_seed = torch.initial_seed() % 2**32\n",
    "    np.random.seed(worker_seed)\n",
    "    random.seed(worker_seed)\n",
    "\n",
    "class DelightDataModule(L.LightningDataModule):\n",
    "    \n",
    "    def __init__(self, X_train, X_val, X_test,\n",
    "                 y_train, y_val, y_test, batch_size=128, seed=0, num_workers =4, train_augmentation=\"delight\"):\n",
    "        super().__init__()\n",
    "        self.X_train = X_train\n",
    "        self.X_val = X_val\n",
    "        self.X_test = X_test\n",
    "\n",
    "        self.y_train = y_train\n",
    "        self.y_val = y_val\n",
    "        self.y_test = y_test\n",
    "\n",
    "\n",
    "        self.batch_size = batch_size\n",
    "        self.seed = seed\n",
    "        self.num_workers = num_workers\n",
    "        self.train_augmentation = train_augmentation\n",
    "\n",
    "        self.persistent = num_workers > 0 and torch.cuda.is_available()\n",
    "\n",
    "\n",
    "    def setup(self, stage=None):\n",
    "        \n",
    "        self.train_dataset = DelighDataset(\n",
    "          self.X_train,\n",
    "          self.y_train,\n",
    "          augmentation=self.train_augmentation,\n",
    "        )\n",
    "\n",
    "        self.val_dataset = DelighDataset(\n",
    "          self.X_val,\n",
    "          self.y_val,\n",
    "          augmentation = self.train_augmentation if self.train_augmentation == \"delight\" else \"None\"\n",
    "        )\n",
    "\n",
    "\n",
    "        self.test_dataset = DelighDataset(\n",
    "          self.X_test,\n",
    "          self.y_test,\n",
    "          augmentation= self.train_augmentation if self.train_augmentation == \"delight\" else \"None\",\n",
    "          )\n",
    "        \n",
    "\n",
    "    def train_dataloader(self):\n",
    "        return DataLoader(\n",
    "            dataset=self.train_dataset,\n",
    "            batch_size=self.batch_size,\n",
    "            shuffle=True,\n",
    "            num_workers=self.num_workers,\n",
    "            persistent_workers=self.persistent,\n",
    "            pin_memory=False,\n",
    "            worker_init_fn=seed_worker,\n",
    "            generator=torch.Generator().manual_seed(self.seed)\n",
    "        )\n",
    "\n",
    "    def val_dataloader(self):\n",
    "        return DataLoader(\n",
    "            self.val_dataset,\n",
    "            batch_size=self.batch_size,\n",
    "            shuffle=False,\n",
    "            num_workers=self.num_workers,\n",
    "            persistent_workers=self.persistent,\n",
    "            pin_memory=False,\n",
    "            worker_init_fn=seed_worker,\n",
    "            generator=torch.Generator().manual_seed(self.seed)\n",
    "        )\n",
    "\n",
    "    def predict_dataloader(self):\n",
    "        return DataLoader(\n",
    "            self.test_dataset,\n",
    "            batch_size=self.batch_size,\n",
    "            shuffle=False,\n",
    "            num_workers=self.num_workers,\n",
    "            persistent_workers=self.persistent,\n",
    "            pin_memory=False,\n",
    "            worker_init_fn=seed_worker,\n",
    "            generator=torch.Generator().manual_seed(self.seed)\n",
    "        )\n",
    "\n",
    "X_train = np.load(\"/Users/legers/Desktop/Galaxias/tesis/data/X_train.npy\")\n",
    "X_val = np.load(\"/Users/legers/Desktop/Galaxias/tesis/data/X_validation.npy\")\n",
    "X_test = np.load(\"/Users/legers/Desktop/Galaxias/tesis/data/X_test.npy\")\n",
    "\n",
    "y_train = np.load(\"/Users/legers/Desktop/Galaxias/tesis/data/y_train.npy\")\n",
    "y_val = np.load(\"/Users/legers/Desktop/Galaxias/tesis/data/y_validation.npy\")\n",
    "y_test = np.load(\"/Users/legers/Desktop/Galaxias/tesis/data/y_test.npy\")\n",
    "\n",
    "from dataclasses import dataclass\n",
    "\n",
    "\n",
    "@dataclass\n",
    "class DelightCnnParameters:\n",
    "    \"\"\"Defines DelightCnn parameters.\n",
    "\n",
    "    Attributes:\n",
    "    - nconv1: Number of out channels for first convolutional layer.\n",
    "    - nconv2: Number of out channels for second convolutional layer.\n",
    "    - nconv3: Number of out channels for third convolutional layer.\n",
    "    - ndense: Number of out features for first fully-connected layer.\n",
    "    - dropout: Probability of dropout. 0 means no dropout.\n",
    "    - channels: Number of channels expected from the dataset.\n",
    "    - levels: Quantity of levels expected from the dataset.\n",
    "    - rot: Applies a rotation transformation on the input.\n",
    "    - flip: Applies a flip transformation on the input.\n",
    "    \"\"\"\n",
    "\n",
    "    nconv1: int\n",
    "    nconv2: int\n",
    "    nconv3: int\n",
    "    ndense: int\n",
    "    dropout: float\n",
    "    channels: int\n",
    "    levels: int\n",
    "\n",
    "\n",
    "from collections import OrderedDict\n",
    "\n",
    "import torch\n",
    "\n",
    "class DelightCnn(torch.nn.Module):\n",
    "    def __init__(self, options: DelightCnnParameters):\n",
    "        super().__init__()  # type: ignore\n",
    "        bottleneck: OrderedDict[str, torch.nn.Module] = OrderedDict(\n",
    "            [\n",
    "                (\"conv1\", torch.nn.Conv2d(options.channels, options.nconv1, 3)),\n",
    "                (\"relu1\", torch.nn.ReLU()),\n",
    "                (\"mp1\", torch.nn.MaxPool2d(2)),\n",
    "                (\"conv2\", torch.nn.Conv2d(options.nconv1, options.nconv2, 3)),\n",
    "                (\"relu2\", torch.nn.ReLU()),\n",
    "                (\"mp2\", torch.nn.MaxPool2d(2)),\n",
    "                (\"conv3\", torch.nn.Conv2d(options.nconv2, options.nconv3, 3)),\n",
    "                (\"relu3\", torch.nn.ReLU()),\n",
    "                (\"flatten\", torch.nn.Flatten()),\n",
    "            ]\n",
    "        )\n",
    "        regression: OrderedDict[str, torch.nn.Module] = OrderedDict(\n",
    "            [\n",
    "                (\n",
    "                \"input_layer_fc\",\n",
    "                    torch.nn.Linear(\n",
    "                        in_features=4*4*options.nconv3*options.levels,\n",
    "                        out_features=options.ndense,\n",
    "                    ),\n",
    "                ),\n",
    "                (\"tanh\", torch.nn.Tanh()),\n",
    "                (\"dropout\", torch.nn.Dropout(p=options.dropout)),\n",
    "                (\"out\", torch.nn.Linear(in_features=options.ndense, out_features=2)),\n",
    "            ]\n",
    "        )\n",
    "\n",
    "        self.bottleneck = torch.nn.Sequential(bottleneck)\n",
    "        self.regression = torch.nn.Sequential(regression)\n",
    "\n",
    "    def forward(self, x: torch.Tensor) -> torch.Tensor:\n",
    "\n",
    "        original_shape  = x.shape\n",
    "\n",
    "        leading = torch.prod(torch.tensor(original_shape[:-3])).item() # Batch*Transforms*Levels\n",
    "\n",
    "        x = x.reshape(leading, original_shape[-3], original_shape[-2], original_shape[-1])\n",
    "\n",
    "        x = self.bottleneck(x)\n",
    "\n",
    "        new_shape = original_shape[:-4] + (-1,)\n",
    "\n",
    "        x = x.reshape(*new_shape)\n",
    "\n",
    "        x = self.regression(x)\n",
    "\n",
    "        return x\n",
    "\n",
    "\n",
    "model_parameters = DelightCnnParameters(\n",
    "    nconv1=52,\n",
    "    nconv2=57,\n",
    "    nconv3=41,\n",
    "    ndense=128,\n",
    "    dropout=0.06,\n",
    "    channels=1,\n",
    "    levels=5,\n",
    ")\n",
    "\n",
    "model = DelightCnn(model_parameters)\n",
    "\n",
    "\n",
    "dm = DelightDataModule(X_train=X_train, X_val=X_val, X_test=X_test, y_train=y_train, y_val=y_val, y_test=y_test, batch_size=4, num_workers=0, seed=0, train_augmentation=\"None\")\n",
    "\n",
    "dm.setup()\n",
    "\n",
    "batch = next(iter(dm.train_dataloader()))\n",
    "imgs = batch[0]\n",
    "targets = batch[1]\n",
    "\n",
    "print(imgs.dtype, targets.dtype)\n",
    "    "
   ]
  },
  {
   "cell_type": "code",
   "execution_count": 295,
   "id": "4fdd908e",
   "metadata": {},
   "outputs": [
    {
     "data": {
      "text/plain": [
       "torch.Size([4, 2])"
      ]
     },
     "execution_count": 295,
     "metadata": {},
     "output_type": "execute_result"
    }
   ],
   "source": [
    "out = model(imgs)\n",
    "out.shape"
   ]
  },
  {
   "cell_type": "code",
   "execution_count": 220,
   "id": "ae5733e1",
   "metadata": {},
   "outputs": [
    {
     "data": {
      "text/plain": [
       "tensor(259.3111, grad_fn=<MseLossBackward0>)"
      ]
     },
     "execution_count": 220,
     "metadata": {},
     "output_type": "execute_result"
    }
   ],
   "source": [
    "mse = torch.nn.MSELoss()\n",
    "\n",
    "mse(out, targets)"
   ]
  },
  {
   "cell_type": "code",
   "execution_count": 298,
   "id": "bbc4e271",
   "metadata": {},
   "outputs": [
    {
     "ename": "TypeError",
     "evalue": "list is not a Module subclass",
     "output_type": "error",
     "traceback": [
      "\u001b[0;31m---------------------------------------------------------------------------\u001b[0m",
      "\u001b[0;31mTypeError\u001b[0m                                 Traceback (most recent call last)",
      "Cell \u001b[0;32mIn[298], line 1\u001b[0m\n\u001b[0;32m----> 1\u001b[0m bottleneck \u001b[38;5;241m=\u001b[39m \u001b[43mtorch\u001b[49m\u001b[38;5;241;43m.\u001b[39;49m\u001b[43mnn\u001b[49m\u001b[38;5;241;43m.\u001b[39;49m\u001b[43mSequential\u001b[49m\u001b[43m(\u001b[49m\n\u001b[1;32m      2\u001b[0m \u001b[43m            \u001b[49m\u001b[43m[\u001b[49m\n\u001b[1;32m      3\u001b[0m \u001b[43m                \u001b[49m\u001b[43m(\u001b[49m\u001b[38;5;124;43m\"\u001b[39;49m\u001b[38;5;124;43mconv1\u001b[39;49m\u001b[38;5;124;43m\"\u001b[39;49m\u001b[43m,\u001b[49m\u001b[43m \u001b[49m\u001b[43mtorch\u001b[49m\u001b[38;5;241;43m.\u001b[39;49m\u001b[43mnn\u001b[49m\u001b[38;5;241;43m.\u001b[39;49m\u001b[43mConv2d\u001b[49m\u001b[43m(\u001b[49m\u001b[38;5;241;43m1\u001b[39;49m\u001b[43m,\u001b[49m\u001b[43m \u001b[49m\u001b[38;5;241;43m2\u001b[39;49m\u001b[43m,\u001b[49m\u001b[43m \u001b[49m\u001b[38;5;241;43m3\u001b[39;49m\u001b[43m)\u001b[49m\u001b[43m)\u001b[49m\u001b[43m,\u001b[49m\n\u001b[1;32m      4\u001b[0m \u001b[43m                \u001b[49m\u001b[43m(\u001b[49m\u001b[38;5;124;43m\"\u001b[39;49m\u001b[38;5;124;43mrelu1\u001b[39;49m\u001b[38;5;124;43m\"\u001b[39;49m\u001b[43m,\u001b[49m\u001b[43m \u001b[49m\u001b[43mtorch\u001b[49m\u001b[38;5;241;43m.\u001b[39;49m\u001b[43mnn\u001b[49m\u001b[38;5;241;43m.\u001b[39;49m\u001b[43mReLU\u001b[49m\u001b[43m(\u001b[49m\u001b[43m)\u001b[49m\u001b[43m)\u001b[49m\u001b[43m,\u001b[49m\n\u001b[1;32m      5\u001b[0m \u001b[43m                \u001b[49m\u001b[43m(\u001b[49m\u001b[38;5;124;43m\"\u001b[39;49m\u001b[38;5;124;43mmp1\u001b[39;49m\u001b[38;5;124;43m\"\u001b[39;49m\u001b[43m,\u001b[49m\u001b[43m \u001b[49m\u001b[43mtorch\u001b[49m\u001b[38;5;241;43m.\u001b[39;49m\u001b[43mnn\u001b[49m\u001b[38;5;241;43m.\u001b[39;49m\u001b[43mMaxPool2d\u001b[49m\u001b[43m(\u001b[49m\u001b[38;5;241;43m2\u001b[39;49m\u001b[43m)\u001b[49m\u001b[43m)\u001b[49m\u001b[43m,\u001b[49m\n\u001b[1;32m      6\u001b[0m \u001b[43m                \u001b[49m\u001b[43m(\u001b[49m\u001b[38;5;124;43m\"\u001b[39;49m\u001b[38;5;124;43mconv2\u001b[39;49m\u001b[38;5;124;43m\"\u001b[39;49m\u001b[43m,\u001b[49m\u001b[43m \u001b[49m\u001b[43mtorch\u001b[49m\u001b[38;5;241;43m.\u001b[39;49m\u001b[43mnn\u001b[49m\u001b[38;5;241;43m.\u001b[39;49m\u001b[43mConv2d\u001b[49m\u001b[43m(\u001b[49m\u001b[38;5;241;43m2\u001b[39;49m\u001b[43m,\u001b[49m\u001b[43m \u001b[49m\u001b[38;5;241;43m4\u001b[39;49m\u001b[43m,\u001b[49m\u001b[43m \u001b[49m\u001b[38;5;241;43m3\u001b[39;49m\u001b[43m)\u001b[49m\u001b[43m)\u001b[49m\u001b[43m,\u001b[49m\n\u001b[1;32m      7\u001b[0m \u001b[43m                \u001b[49m\u001b[43m(\u001b[49m\u001b[38;5;124;43m\"\u001b[39;49m\u001b[38;5;124;43mrelu2\u001b[39;49m\u001b[38;5;124;43m\"\u001b[39;49m\u001b[43m,\u001b[49m\u001b[43m \u001b[49m\u001b[43mtorch\u001b[49m\u001b[38;5;241;43m.\u001b[39;49m\u001b[43mnn\u001b[49m\u001b[38;5;241;43m.\u001b[39;49m\u001b[43mReLU\u001b[49m\u001b[43m(\u001b[49m\u001b[43m)\u001b[49m\u001b[43m)\u001b[49m\u001b[43m,\u001b[49m\n\u001b[1;32m      8\u001b[0m \u001b[43m                \u001b[49m\u001b[43m(\u001b[49m\u001b[38;5;124;43m\"\u001b[39;49m\u001b[38;5;124;43mmp2\u001b[39;49m\u001b[38;5;124;43m\"\u001b[39;49m\u001b[43m,\u001b[49m\u001b[43m \u001b[49m\u001b[43mtorch\u001b[49m\u001b[38;5;241;43m.\u001b[39;49m\u001b[43mnn\u001b[49m\u001b[38;5;241;43m.\u001b[39;49m\u001b[43mMaxPool2d\u001b[49m\u001b[43m(\u001b[49m\u001b[38;5;241;43m2\u001b[39;49m\u001b[43m)\u001b[49m\u001b[43m)\u001b[49m\u001b[43m,\u001b[49m\n\u001b[1;32m      9\u001b[0m \u001b[43m                \u001b[49m\u001b[43m(\u001b[49m\u001b[38;5;124;43m\"\u001b[39;49m\u001b[38;5;124;43mconv3\u001b[39;49m\u001b[38;5;124;43m\"\u001b[39;49m\u001b[43m,\u001b[49m\u001b[43m \u001b[49m\u001b[43mtorch\u001b[49m\u001b[38;5;241;43m.\u001b[39;49m\u001b[43mnn\u001b[49m\u001b[38;5;241;43m.\u001b[39;49m\u001b[43mConv2d\u001b[49m\u001b[43m(\u001b[49m\u001b[38;5;241;43m4\u001b[39;49m\u001b[43m,\u001b[49m\u001b[43m \u001b[49m\u001b[38;5;241;43m16\u001b[39;49m\u001b[43m,\u001b[49m\u001b[43m \u001b[49m\u001b[38;5;241;43m3\u001b[39;49m\u001b[43m)\u001b[49m\u001b[43m)\u001b[49m\u001b[43m,\u001b[49m\n\u001b[1;32m     10\u001b[0m \u001b[43m                \u001b[49m\u001b[43m(\u001b[49m\u001b[38;5;124;43m\"\u001b[39;49m\u001b[38;5;124;43mrelu3\u001b[39;49m\u001b[38;5;124;43m\"\u001b[39;49m\u001b[43m,\u001b[49m\u001b[43m \u001b[49m\u001b[43mtorch\u001b[49m\u001b[38;5;241;43m.\u001b[39;49m\u001b[43mnn\u001b[49m\u001b[38;5;241;43m.\u001b[39;49m\u001b[43mReLU\u001b[49m\u001b[43m(\u001b[49m\u001b[43m)\u001b[49m\u001b[43m)\u001b[49m\u001b[43m,\u001b[49m\n\u001b[1;32m     11\u001b[0m \u001b[43m                \u001b[49m\u001b[43m(\u001b[49m\u001b[38;5;124;43m\"\u001b[39;49m\u001b[38;5;124;43mflatten\u001b[39;49m\u001b[38;5;124;43m\"\u001b[39;49m\u001b[43m,\u001b[49m\u001b[43m \u001b[49m\u001b[43mtorch\u001b[49m\u001b[38;5;241;43m.\u001b[39;49m\u001b[43mnn\u001b[49m\u001b[38;5;241;43m.\u001b[39;49m\u001b[43mFlatten\u001b[49m\u001b[43m(\u001b[49m\u001b[43m)\u001b[49m\u001b[43m)\u001b[49m\u001b[43m,\u001b[49m\n\u001b[1;32m     12\u001b[0m \u001b[43m            \u001b[49m\u001b[43m]\u001b[49m\n\u001b[1;32m     13\u001b[0m \u001b[43m        \u001b[49m\u001b[43m)\u001b[49m\n",
      "File \u001b[0;32m~/Desktop/Galaxias/env_galaxias/lib/python3.11/site-packages/torch/nn/modules/container.py:117\u001b[0m, in \u001b[0;36mSequential.__init__\u001b[0;34m(self, *args)\u001b[0m\n\u001b[1;32m    115\u001b[0m \u001b[38;5;28;01melse\u001b[39;00m:\n\u001b[1;32m    116\u001b[0m     \u001b[38;5;28;01mfor\u001b[39;00m idx, module \u001b[38;5;129;01min\u001b[39;00m \u001b[38;5;28menumerate\u001b[39m(args):\n\u001b[0;32m--> 117\u001b[0m         \u001b[38;5;28;43mself\u001b[39;49m\u001b[38;5;241;43m.\u001b[39;49m\u001b[43madd_module\u001b[49m\u001b[43m(\u001b[49m\u001b[38;5;28;43mstr\u001b[39;49m\u001b[43m(\u001b[49m\u001b[43midx\u001b[49m\u001b[43m)\u001b[49m\u001b[43m,\u001b[49m\u001b[43m \u001b[49m\u001b[43mmodule\u001b[49m\u001b[43m)\u001b[49m\n",
      "File \u001b[0;32m~/Desktop/Galaxias/env_galaxias/lib/python3.11/site-packages/torch/nn/modules/module.py:635\u001b[0m, in \u001b[0;36mModule.add_module\u001b[0;34m(self, name, module)\u001b[0m\n\u001b[1;32m    625\u001b[0m \u001b[38;5;250m\u001b[39m\u001b[38;5;124mr\u001b[39m\u001b[38;5;124;03m\"\"\"Add a child module to the current module.\u001b[39;00m\n\u001b[1;32m    626\u001b[0m \n\u001b[1;32m    627\u001b[0m \u001b[38;5;124;03mThe module can be accessed as an attribute using the given name.\u001b[39;00m\n\u001b[0;32m   (...)\u001b[0m\n\u001b[1;32m    632\u001b[0m \u001b[38;5;124;03m    module (Module): child module to be added to the module.\u001b[39;00m\n\u001b[1;32m    633\u001b[0m \u001b[38;5;124;03m\"\"\"\u001b[39;00m\n\u001b[1;32m    634\u001b[0m \u001b[38;5;28;01mif\u001b[39;00m \u001b[38;5;129;01mnot\u001b[39;00m \u001b[38;5;28misinstance\u001b[39m(module, Module) \u001b[38;5;129;01mand\u001b[39;00m module \u001b[38;5;129;01mis\u001b[39;00m \u001b[38;5;129;01mnot\u001b[39;00m \u001b[38;5;28;01mNone\u001b[39;00m:\n\u001b[0;32m--> 635\u001b[0m     \u001b[38;5;28;01mraise\u001b[39;00m \u001b[38;5;167;01mTypeError\u001b[39;00m(\u001b[38;5;124mf\u001b[39m\u001b[38;5;124m\"\u001b[39m\u001b[38;5;132;01m{\u001b[39;00mtorch\u001b[38;5;241m.\u001b[39mtypename(module)\u001b[38;5;132;01m}\u001b[39;00m\u001b[38;5;124m is not a Module subclass\u001b[39m\u001b[38;5;124m\"\u001b[39m)\n\u001b[1;32m    636\u001b[0m \u001b[38;5;28;01melif\u001b[39;00m \u001b[38;5;129;01mnot\u001b[39;00m \u001b[38;5;28misinstance\u001b[39m(name, \u001b[38;5;28mstr\u001b[39m):\n\u001b[1;32m    637\u001b[0m     \u001b[38;5;28;01mraise\u001b[39;00m \u001b[38;5;167;01mTypeError\u001b[39;00m(\n\u001b[1;32m    638\u001b[0m         \u001b[38;5;124mf\u001b[39m\u001b[38;5;124m\"\u001b[39m\u001b[38;5;124mmodule name should be a string. Got \u001b[39m\u001b[38;5;132;01m{\u001b[39;00mtorch\u001b[38;5;241m.\u001b[39mtypename(name)\u001b[38;5;132;01m}\u001b[39;00m\u001b[38;5;124m\"\u001b[39m\n\u001b[1;32m    639\u001b[0m     )\n",
      "\u001b[0;31mTypeError\u001b[0m: list is not a Module subclass"
     ]
    }
   ],
   "source": [
    "bottleneck = torch.nn.Sequential(\n",
    "            [\n",
    "                (\"conv1\", torch.nn.Conv2d(1, 2, 3)),\n",
    "                (\"relu1\", torch.nn.ReLU()),\n",
    "                (\"mp1\", torch.nn.MaxPool2d(2)),\n",
    "                (\"conv2\", torch.nn.Conv2d(2, 4, 3)),\n",
    "                (\"relu2\", torch.nn.ReLU()),\n",
    "                (\"mp2\", torch.nn.MaxPool2d(2)),\n",
    "                (\"conv3\", torch.nn.Conv2d(4, 16, 3)),\n",
    "                (\"relu3\", torch.nn.ReLU()),\n",
    "                (\"flatten\", torch.nn.Flatten()),\n",
    "            ]\n",
    "        )"
   ]
  }
 ],
 "metadata": {
  "kernelspec": {
   "display_name": "env_galaxias",
   "language": "python",
   "name": "python3"
  },
  "language_info": {
   "codemirror_mode": {
    "name": "ipython",
    "version": 3
   },
   "file_extension": ".py",
   "mimetype": "text/x-python",
   "name": "python",
   "nbconvert_exporter": "python",
   "pygments_lexer": "ipython3",
   "version": "3.11.5"
  }
 },
 "nbformat": 4,
 "nbformat_minor": 5
}
